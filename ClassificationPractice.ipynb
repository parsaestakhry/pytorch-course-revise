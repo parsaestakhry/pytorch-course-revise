{
 "cells": [
  {
   "cell_type": "code",
   "execution_count": 1,
   "metadata": {},
   "outputs": [],
   "source": [
    "import pandas as pd\n",
    "from sklearn.datasets import make_circles\n",
    "import matplotlib.pyplot as plt\n"
   ]
  },
  {
   "cell_type": "markdown",
   "metadata": {},
   "source": [
    "# Making Datasets"
   ]
  },
  {
   "cell_type": "code",
   "execution_count": 4,
   "metadata": {},
   "outputs": [
    {
     "data": {
      "text/plain": [
       "(1000, 1000)"
      ]
     },
     "execution_count": 4,
     "metadata": {},
     "output_type": "execute_result"
    }
   ],
   "source": [
    "X,y = make_circles(n_samples=1000, noise=0.1, random_state=42)\n",
    "len(X), len(y)\n"
   ]
  },
  {
   "cell_type": "code",
   "execution_count": 5,
   "metadata": {},
   "outputs": [
    {
     "name": "stdout",
     "output_type": "stream",
     "text": [
      "First 10 exmaples of X:\n",
      " [[ 0.71210844  0.28469831]\n",
      " [-0.67871584  0.20727355]\n",
      " [-0.86602567  0.34365139]\n",
      " [-0.51764775  0.62059874]\n",
      " [ 0.4540887  -0.89046586]\n",
      " [-0.44548328  0.78704416]\n",
      " [-0.02203792  0.81130978]\n",
      " [ 0.72989715  0.18894258]\n",
      " [-0.19161584 -0.81578974]\n",
      " [-0.08344198  1.09395352]]\n",
      "First 10 exmaples of y:\n",
      " [1 1 1 1 0 1 1 1 1 0]\n"
     ]
    }
   ],
   "source": [
    "print(f\"First 10 exmaples of X:\\n {X[:10]}\")\n",
    "print(f\"First 10 exmaples of y:\\n {y[:10]}\")"
   ]
  },
  {
   "cell_type": "code",
   "execution_count": 7,
   "metadata": {},
   "outputs": [
    {
     "data": {
      "text/html": [
       "<div>\n",
       "<style scoped>\n",
       "    .dataframe tbody tr th:only-of-type {\n",
       "        vertical-align: middle;\n",
       "    }\n",
       "\n",
       "    .dataframe tbody tr th {\n",
       "        vertical-align: top;\n",
       "    }\n",
       "\n",
       "    .dataframe thead th {\n",
       "        text-align: right;\n",
       "    }\n",
       "</style>\n",
       "<table border=\"1\" class=\"dataframe\">\n",
       "  <thead>\n",
       "    <tr style=\"text-align: right;\">\n",
       "      <th></th>\n",
       "      <th>X1</th>\n",
       "      <th>X2</th>\n",
       "      <th>label</th>\n",
       "    </tr>\n",
       "  </thead>\n",
       "  <tbody>\n",
       "    <tr>\n",
       "      <th>0</th>\n",
       "      <td>0.712108</td>\n",
       "      <td>0.284698</td>\n",
       "      <td>1</td>\n",
       "    </tr>\n",
       "    <tr>\n",
       "      <th>1</th>\n",
       "      <td>-0.678716</td>\n",
       "      <td>0.207274</td>\n",
       "      <td>1</td>\n",
       "    </tr>\n",
       "    <tr>\n",
       "      <th>2</th>\n",
       "      <td>-0.866026</td>\n",
       "      <td>0.343651</td>\n",
       "      <td>1</td>\n",
       "    </tr>\n",
       "    <tr>\n",
       "      <th>3</th>\n",
       "      <td>-0.517648</td>\n",
       "      <td>0.620599</td>\n",
       "      <td>1</td>\n",
       "    </tr>\n",
       "    <tr>\n",
       "      <th>4</th>\n",
       "      <td>0.454089</td>\n",
       "      <td>-0.890466</td>\n",
       "      <td>0</td>\n",
       "    </tr>\n",
       "    <tr>\n",
       "      <th>5</th>\n",
       "      <td>-0.445483</td>\n",
       "      <td>0.787044</td>\n",
       "      <td>1</td>\n",
       "    </tr>\n",
       "    <tr>\n",
       "      <th>6</th>\n",
       "      <td>-0.022038</td>\n",
       "      <td>0.811310</td>\n",
       "      <td>1</td>\n",
       "    </tr>\n",
       "    <tr>\n",
       "      <th>7</th>\n",
       "      <td>0.729897</td>\n",
       "      <td>0.188943</td>\n",
       "      <td>1</td>\n",
       "    </tr>\n",
       "    <tr>\n",
       "      <th>8</th>\n",
       "      <td>-0.191616</td>\n",
       "      <td>-0.815790</td>\n",
       "      <td>1</td>\n",
       "    </tr>\n",
       "    <tr>\n",
       "      <th>9</th>\n",
       "      <td>-0.083442</td>\n",
       "      <td>1.093954</td>\n",
       "      <td>0</td>\n",
       "    </tr>\n",
       "  </tbody>\n",
       "</table>\n",
       "</div>"
      ],
      "text/plain": [
       "         X1        X2  label\n",
       "0  0.712108  0.284698      1\n",
       "1 -0.678716  0.207274      1\n",
       "2 -0.866026  0.343651      1\n",
       "3 -0.517648  0.620599      1\n",
       "4  0.454089 -0.890466      0\n",
       "5 -0.445483  0.787044      1\n",
       "6 -0.022038  0.811310      1\n",
       "7  0.729897  0.188943      1\n",
       "8 -0.191616 -0.815790      1\n",
       "9 -0.083442  1.093954      0"
      ]
     },
     "execution_count": 7,
     "metadata": {},
     "output_type": "execute_result"
    }
   ],
   "source": [
    "circles = pd.DataFrame({\"X1\":X[:,0], \"X2\":X[:,1], \"label\":y})\n",
    "circles.head(10)"
   ]
  },
  {
   "cell_type": "code",
   "execution_count": null,
   "metadata": {},
   "outputs": [],
   "source": []
  }
 ],
 "metadata": {
  "kernelspec": {
   "display_name": ".venv",
   "language": "python",
   "name": "python3"
  },
  "language_info": {
   "codemirror_mode": {
    "name": "ipython",
    "version": 3
   },
   "file_extension": ".py",
   "mimetype": "text/x-python",
   "name": "python",
   "nbconvert_exporter": "python",
   "pygments_lexer": "ipython3",
   "version": "3.13.1"
  }
 },
 "nbformat": 4,
 "nbformat_minor": 2
}
