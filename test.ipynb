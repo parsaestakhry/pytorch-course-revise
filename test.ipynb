{
 "cells": [
  {
   "cell_type": "code",
   "execution_count": 2,
   "id": "9f0da3c1",
   "metadata": {},
   "outputs": [
    {
     "name": "stdout",
     "output_type": "stream",
     "text": [
      "True\n"
     ]
    }
   ],
   "source": [
    "import torch\n",
    "from torch import nn\n",
    "import matplotlib.pyplot as plt\n",
    "import numpy as np\n",
    "\n",
    "print(torch.cuda.is_available())"
   ]
  },
  {
   "cell_type": "code",
   "execution_count": 3,
   "id": "8a0f4e86",
   "metadata": {},
   "outputs": [
    {
     "data": {
      "text/plain": [
       "(tensor([[0.0000],\n",
       "         [0.0200],\n",
       "         [0.0400],\n",
       "         [0.0600],\n",
       "         [0.0800],\n",
       "         [0.1000],\n",
       "         [0.1200],\n",
       "         [0.1400],\n",
       "         [0.1600],\n",
       "         [0.1800]]),\n",
       " tensor([[0.3000],\n",
       "         [0.3140],\n",
       "         [0.3280],\n",
       "         [0.3420],\n",
       "         [0.3560],\n",
       "         [0.3700],\n",
       "         [0.3840],\n",
       "         [0.3980],\n",
       "         [0.4120],\n",
       "         [0.4260]]))"
      ]
     },
     "execution_count": 3,
     "metadata": {},
     "output_type": "execute_result"
    }
   ],
   "source": [
    "# create known paramters\n",
    "# creating data\n",
    "weight = 0.7\n",
    "bias = 0.3\n",
    "\n",
    "# data\n",
    "start = 0\n",
    "end = 1\n",
    "step = 0.02\n",
    "# x is capital because it's a matrix or tensor\n",
    "X = torch.arange(start, end, step).unsqueeze(dim=1)  # adds an extra dimension\n",
    "y = weight * X + bias\n",
    "X[:10], y[:10]"
   ]
  },
  {
   "cell_type": "code",
   "execution_count": 4,
   "id": "de5a4969",
   "metadata": {},
   "outputs": [],
   "source": [
    "class CircleModelV1(nn.Module):\n",
    "    def __init__(self):\n",
    "        super().__init__()\n",
    "        self.layer_1 = nn.Linear(in_features=2, out_features=10)\n",
    "        self.layer_2 = nn.Linear(in_features=10, out_features=10)\n",
    "        self.layer_3 = nn.Linear(in_features=10, out_features=1)\n",
    "\n",
    "    def forward(self, x):\n",
    "        return self.layer_3(self.layer_2(self.layer_1(x)))"
   ]
  },
  {
   "cell_type": "code",
   "execution_count": 5,
   "id": "439e6bef",
   "metadata": {},
   "outputs": [
    {
     "data": {
      "text/plain": [
       "OrderedDict([('layer_1.weight',\n",
       "              tensor([[ 0.6251,  0.5148],\n",
       "                      [ 0.0571, -0.0417],\n",
       "                      [ 0.3001, -0.6903],\n",
       "                      [-0.6791, -0.2785],\n",
       "                      [-0.6127, -0.2117],\n",
       "                      [ 0.3792, -0.0027],\n",
       "                      [ 0.1240, -0.3481],\n",
       "                      [ 0.4976,  0.2227],\n",
       "                      [-0.5739,  0.3807],\n",
       "                      [ 0.4392,  0.6108]], device='cuda:0')),\n",
       "             ('layer_1.bias',\n",
       "              tensor([-0.4351, -0.4806, -0.0941, -0.1108, -0.0419, -0.5202, -0.1508, -0.5010,\n",
       "                       0.4159, -0.5888], device='cuda:0')),\n",
       "             ('layer_2.weight',\n",
       "              tensor([[ 0.2323, -0.1141, -0.1143, -0.2034, -0.0120, -0.0766,  0.2782, -0.0568,\n",
       "                       -0.2349, -0.1531],\n",
       "                      [-0.1737,  0.0103, -0.1591, -0.0731,  0.2496,  0.2399,  0.1859,  0.1731,\n",
       "                       -0.0478, -0.0914],\n",
       "                      [-0.1681, -0.1176,  0.0515,  0.0825, -0.0478,  0.0564, -0.0938, -0.2686,\n",
       "                       -0.0554, -0.1143],\n",
       "                      [-0.1640,  0.0999,  0.1306, -0.0011,  0.1267, -0.2582, -0.0488, -0.1799,\n",
       "                       -0.2952, -0.2720],\n",
       "                      [-0.0223,  0.2621,  0.0220,  0.0716, -0.1749, -0.1789, -0.0976,  0.0763,\n",
       "                       -0.0145, -0.1296],\n",
       "                      [-0.1525, -0.1058,  0.1187,  0.0912, -0.1453,  0.1251, -0.0518, -0.1853,\n",
       "                        0.1175,  0.2757],\n",
       "                      [-0.0182,  0.1269, -0.3088,  0.2798, -0.1236, -0.2140,  0.0961,  0.2618,\n",
       "                       -0.3127, -0.1809],\n",
       "                      [-0.1585, -0.2096, -0.2617,  0.2131,  0.0656,  0.2520, -0.2455, -0.1483,\n",
       "                        0.1280, -0.2570],\n",
       "                      [ 0.3109, -0.2025,  0.1193,  0.2020, -0.0645,  0.0066, -0.0622,  0.2522,\n",
       "                        0.0522,  0.1110],\n",
       "                      [-0.2638, -0.0244, -0.0715,  0.2715, -0.0927,  0.0932, -0.1392,  0.1143,\n",
       "                        0.2192,  0.0595]], device='cuda:0')),\n",
       "             ('layer_2.bias',\n",
       "              tensor([-0.0528,  0.1156,  0.0917,  0.2431,  0.1725, -0.2577,  0.0844, -0.1131,\n",
       "                       0.2378, -0.2281], device='cuda:0')),\n",
       "             ('layer_3.weight',\n",
       "              tensor([[-0.1058, -0.1833,  0.0182,  0.2844,  0.1209,  0.0302, -0.1462, -0.3033,\n",
       "                       -0.3060, -0.2579]], device='cuda:0')),\n",
       "             ('layer_3.bias', tensor([0.2329], device='cuda:0'))])"
      ]
     },
     "execution_count": 5,
     "metadata": {},
     "output_type": "execute_result"
    }
   ],
   "source": [
    "model_1 = CircleModelV1().to(device=\"cuda\")\n",
    "model_1.state_dict()"
   ]
  },
  {
   "cell_type": "code",
   "execution_count": null,
   "id": "95ae4a2f",
   "metadata": {},
   "outputs": [],
   "source": []
  }
 ],
 "metadata": {
  "kernelspec": {
   "display_name": ".venv",
   "language": "python",
   "name": "python3"
  },
  "language_info": {
   "codemirror_mode": {
    "name": "ipython",
    "version": 3
   },
   "file_extension": ".py",
   "mimetype": "text/x-python",
   "name": "python",
   "nbconvert_exporter": "python",
   "pygments_lexer": "ipython3",
   "version": "3.13.1"
  }
 },
 "nbformat": 4,
 "nbformat_minor": 5
}
