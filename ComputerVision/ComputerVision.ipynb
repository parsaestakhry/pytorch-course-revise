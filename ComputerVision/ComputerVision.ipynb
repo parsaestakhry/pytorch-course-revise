{
 "cells": [
  {
   "cell_type": "code",
   "execution_count": 90,
   "id": "78e11ac9",
   "metadata": {},
   "outputs": [
    {
     "name": "stdout",
     "output_type": "stream",
     "text": [
      "True\n",
      "2.6.0+cu126\n",
      "0.21.0+cu126\n"
     ]
    }
   ],
   "source": [
    "# import pytorch \n",
    "import torch\n",
    "from torch import nn\n",
    "\n",
    "# import torchvision\n",
    "import torchvision\n",
    "from torchvision import datasets \n",
    "from torchvision import transforms\n",
    "from torchvision.transforms import ToTensor\n",
    "\n",
    "\n",
    "import matplotlib.pyplot as plt\n",
    "\n",
    "\n",
    "print(torch.cuda.is_available())\n",
    "print(torch.__version__)\n",
    "print(torchvision.__version__)"
   ]
  },
  {
   "cell_type": "code",
   "execution_count": 91,
   "id": "324148b2",
   "metadata": {},
   "outputs": [],
   "source": [
    "# getting a dataset\n",
    "train_data = datasets.FashionMNIST(root=\"data\", #where to download data  ,\n",
    "                                   train=True,#training version of dataset\n",
    "                                   download=True, # do we want to download \n",
    "                                   transform=torchvision.transforms.ToTensor(), # how do we want to transform the data\n",
    "                                   target_transform=None \n",
    "                            \n",
    "                                   )\n",
    "\n",
    "\n",
    "test_data = datasets.FashionMNIST(root=\"data\", #where to download data  ,\n",
    "                                   train=False,#training version of dataset\n",
    "                                   download=True, # do we want to download \n",
    "                                   transform=torchvision.transforms.ToTensor(), # how do we want to transform the data\n",
    "                                   target_transform=None \n",
    "                            \n",
    "                                   )\n",
    "\n",
    "\n",
    "\n"
   ]
  },
  {
   "cell_type": "code",
   "execution_count": 92,
   "id": "2131bb4a",
   "metadata": {},
   "outputs": [
    {
     "data": {
      "text/plain": [
       "(60000, 10000)"
      ]
     },
     "execution_count": 92,
     "metadata": {},
     "output_type": "execute_result"
    }
   ],
   "source": [
    "len(train_data), len(test_data)"
   ]
  },
  {
   "cell_type": "code",
   "execution_count": 93,
   "id": "d356683b",
   "metadata": {},
   "outputs": [
    {
     "data": {
      "text/plain": [
       "(tensor([[[0.0000, 0.0000, 0.0000, 0.0000, 0.0000, 0.0000, 0.0000, 0.0000,\n",
       "           0.0000, 0.0000, 0.0000, 0.0000, 0.0000, 0.0000, 0.0000, 0.0000,\n",
       "           0.0000, 0.0000, 0.0000, 0.0000, 0.0000, 0.0000, 0.0000, 0.0000,\n",
       "           0.0000, 0.0000, 0.0000, 0.0000],\n",
       "          [0.0000, 0.0000, 0.0000, 0.0000, 0.0000, 0.0000, 0.0000, 0.0000,\n",
       "           0.0000, 0.0000, 0.0000, 0.0000, 0.0000, 0.0000, 0.0000, 0.0000,\n",
       "           0.0000, 0.0000, 0.0000, 0.0000, 0.0000, 0.0000, 0.0000, 0.0000,\n",
       "           0.0000, 0.0000, 0.0000, 0.0000],\n",
       "          [0.0000, 0.0000, 0.0000, 0.0000, 0.0000, 0.0000, 0.0000, 0.0000,\n",
       "           0.0000, 0.0000, 0.0000, 0.0000, 0.0000, 0.0000, 0.0000, 0.0000,\n",
       "           0.0000, 0.0000, 0.0000, 0.0000, 0.0000, 0.0000, 0.0000, 0.0000,\n",
       "           0.0000, 0.0000, 0.0000, 0.0000],\n",
       "          [0.0000, 0.0000, 0.0000, 0.0000, 0.0000, 0.0000, 0.0000, 0.0000,\n",
       "           0.0000, 0.0000, 0.0000, 0.0000, 0.0039, 0.0000, 0.0000, 0.0510,\n",
       "           0.2863, 0.0000, 0.0000, 0.0039, 0.0157, 0.0000, 0.0000, 0.0000,\n",
       "           0.0000, 0.0039, 0.0039, 0.0000],\n",
       "          [0.0000, 0.0000, 0.0000, 0.0000, 0.0000, 0.0000, 0.0000, 0.0000,\n",
       "           0.0000, 0.0000, 0.0000, 0.0000, 0.0118, 0.0000, 0.1412, 0.5333,\n",
       "           0.4980, 0.2431, 0.2118, 0.0000, 0.0000, 0.0000, 0.0039, 0.0118,\n",
       "           0.0157, 0.0000, 0.0000, 0.0118],\n",
       "          [0.0000, 0.0000, 0.0000, 0.0000, 0.0000, 0.0000, 0.0000, 0.0000,\n",
       "           0.0000, 0.0000, 0.0000, 0.0000, 0.0235, 0.0000, 0.4000, 0.8000,\n",
       "           0.6902, 0.5255, 0.5647, 0.4824, 0.0902, 0.0000, 0.0000, 0.0000,\n",
       "           0.0000, 0.0471, 0.0392, 0.0000],\n",
       "          [0.0000, 0.0000, 0.0000, 0.0000, 0.0000, 0.0000, 0.0000, 0.0000,\n",
       "           0.0000, 0.0000, 0.0000, 0.0000, 0.0000, 0.0000, 0.6078, 0.9255,\n",
       "           0.8118, 0.6980, 0.4196, 0.6118, 0.6314, 0.4275, 0.2510, 0.0902,\n",
       "           0.3020, 0.5098, 0.2824, 0.0588],\n",
       "          [0.0000, 0.0000, 0.0000, 0.0000, 0.0000, 0.0000, 0.0000, 0.0000,\n",
       "           0.0000, 0.0000, 0.0000, 0.0039, 0.0000, 0.2706, 0.8118, 0.8745,\n",
       "           0.8549, 0.8471, 0.8471, 0.6392, 0.4980, 0.4745, 0.4784, 0.5725,\n",
       "           0.5529, 0.3451, 0.6745, 0.2588],\n",
       "          [0.0000, 0.0000, 0.0000, 0.0000, 0.0000, 0.0000, 0.0000, 0.0000,\n",
       "           0.0000, 0.0039, 0.0039, 0.0039, 0.0000, 0.7843, 0.9098, 0.9098,\n",
       "           0.9137, 0.8980, 0.8745, 0.8745, 0.8431, 0.8353, 0.6431, 0.4980,\n",
       "           0.4824, 0.7686, 0.8980, 0.0000],\n",
       "          [0.0000, 0.0000, 0.0000, 0.0000, 0.0000, 0.0000, 0.0000, 0.0000,\n",
       "           0.0000, 0.0000, 0.0000, 0.0000, 0.0000, 0.7176, 0.8824, 0.8471,\n",
       "           0.8745, 0.8941, 0.9216, 0.8902, 0.8784, 0.8706, 0.8784, 0.8667,\n",
       "           0.8745, 0.9608, 0.6784, 0.0000],\n",
       "          [0.0000, 0.0000, 0.0000, 0.0000, 0.0000, 0.0000, 0.0000, 0.0000,\n",
       "           0.0000, 0.0000, 0.0000, 0.0000, 0.0000, 0.7569, 0.8941, 0.8549,\n",
       "           0.8353, 0.7765, 0.7059, 0.8314, 0.8235, 0.8275, 0.8353, 0.8745,\n",
       "           0.8627, 0.9529, 0.7922, 0.0000],\n",
       "          [0.0000, 0.0000, 0.0000, 0.0000, 0.0000, 0.0000, 0.0000, 0.0000,\n",
       "           0.0000, 0.0039, 0.0118, 0.0000, 0.0471, 0.8588, 0.8627, 0.8314,\n",
       "           0.8549, 0.7529, 0.6627, 0.8902, 0.8157, 0.8549, 0.8784, 0.8314,\n",
       "           0.8863, 0.7725, 0.8196, 0.2039],\n",
       "          [0.0000, 0.0000, 0.0000, 0.0000, 0.0000, 0.0000, 0.0000, 0.0000,\n",
       "           0.0000, 0.0000, 0.0235, 0.0000, 0.3882, 0.9569, 0.8706, 0.8627,\n",
       "           0.8549, 0.7961, 0.7765, 0.8667, 0.8431, 0.8353, 0.8706, 0.8627,\n",
       "           0.9608, 0.4667, 0.6549, 0.2196],\n",
       "          [0.0000, 0.0000, 0.0000, 0.0000, 0.0000, 0.0000, 0.0000, 0.0000,\n",
       "           0.0000, 0.0157, 0.0000, 0.0000, 0.2157, 0.9255, 0.8941, 0.9020,\n",
       "           0.8941, 0.9412, 0.9098, 0.8353, 0.8549, 0.8745, 0.9176, 0.8510,\n",
       "           0.8510, 0.8196, 0.3608, 0.0000],\n",
       "          [0.0000, 0.0000, 0.0039, 0.0157, 0.0235, 0.0275, 0.0078, 0.0000,\n",
       "           0.0000, 0.0000, 0.0000, 0.0000, 0.9294, 0.8863, 0.8510, 0.8745,\n",
       "           0.8706, 0.8588, 0.8706, 0.8667, 0.8471, 0.8745, 0.8980, 0.8431,\n",
       "           0.8549, 1.0000, 0.3020, 0.0000],\n",
       "          [0.0000, 0.0118, 0.0000, 0.0000, 0.0000, 0.0000, 0.0000, 0.0000,\n",
       "           0.0000, 0.2431, 0.5686, 0.8000, 0.8941, 0.8118, 0.8353, 0.8667,\n",
       "           0.8549, 0.8157, 0.8275, 0.8549, 0.8784, 0.8745, 0.8588, 0.8431,\n",
       "           0.8784, 0.9569, 0.6235, 0.0000],\n",
       "          [0.0000, 0.0000, 0.0000, 0.0000, 0.0706, 0.1725, 0.3216, 0.4196,\n",
       "           0.7412, 0.8941, 0.8627, 0.8706, 0.8510, 0.8863, 0.7843, 0.8039,\n",
       "           0.8275, 0.9020, 0.8784, 0.9176, 0.6902, 0.7373, 0.9804, 0.9725,\n",
       "           0.9137, 0.9333, 0.8431, 0.0000],\n",
       "          [0.0000, 0.2235, 0.7333, 0.8157, 0.8784, 0.8667, 0.8784, 0.8157,\n",
       "           0.8000, 0.8392, 0.8157, 0.8196, 0.7843, 0.6235, 0.9608, 0.7569,\n",
       "           0.8078, 0.8745, 1.0000, 1.0000, 0.8667, 0.9176, 0.8667, 0.8275,\n",
       "           0.8627, 0.9098, 0.9647, 0.0000],\n",
       "          [0.0118, 0.7922, 0.8941, 0.8784, 0.8667, 0.8275, 0.8275, 0.8392,\n",
       "           0.8039, 0.8039, 0.8039, 0.8627, 0.9412, 0.3137, 0.5882, 1.0000,\n",
       "           0.8980, 0.8667, 0.7373, 0.6039, 0.7490, 0.8235, 0.8000, 0.8196,\n",
       "           0.8706, 0.8941, 0.8824, 0.0000],\n",
       "          [0.3843, 0.9137, 0.7765, 0.8235, 0.8706, 0.8980, 0.8980, 0.9176,\n",
       "           0.9765, 0.8627, 0.7608, 0.8431, 0.8510, 0.9451, 0.2549, 0.2863,\n",
       "           0.4157, 0.4588, 0.6588, 0.8588, 0.8667, 0.8431, 0.8510, 0.8745,\n",
       "           0.8745, 0.8784, 0.8980, 0.1137],\n",
       "          [0.2941, 0.8000, 0.8314, 0.8000, 0.7569, 0.8039, 0.8275, 0.8824,\n",
       "           0.8471, 0.7255, 0.7725, 0.8078, 0.7765, 0.8353, 0.9412, 0.7647,\n",
       "           0.8902, 0.9608, 0.9373, 0.8745, 0.8549, 0.8314, 0.8196, 0.8706,\n",
       "           0.8627, 0.8667, 0.9020, 0.2627],\n",
       "          [0.1882, 0.7961, 0.7176, 0.7608, 0.8353, 0.7725, 0.7255, 0.7451,\n",
       "           0.7608, 0.7529, 0.7922, 0.8392, 0.8588, 0.8667, 0.8627, 0.9255,\n",
       "           0.8824, 0.8471, 0.7804, 0.8078, 0.7294, 0.7098, 0.6941, 0.6745,\n",
       "           0.7098, 0.8039, 0.8078, 0.4510],\n",
       "          [0.0000, 0.4784, 0.8588, 0.7569, 0.7020, 0.6706, 0.7176, 0.7686,\n",
       "           0.8000, 0.8235, 0.8353, 0.8118, 0.8275, 0.8235, 0.7843, 0.7686,\n",
       "           0.7608, 0.7490, 0.7647, 0.7490, 0.7765, 0.7529, 0.6902, 0.6118,\n",
       "           0.6549, 0.6941, 0.8235, 0.3608],\n",
       "          [0.0000, 0.0000, 0.2902, 0.7412, 0.8314, 0.7490, 0.6863, 0.6745,\n",
       "           0.6863, 0.7098, 0.7255, 0.7373, 0.7412, 0.7373, 0.7569, 0.7765,\n",
       "           0.8000, 0.8196, 0.8235, 0.8235, 0.8275, 0.7373, 0.7373, 0.7608,\n",
       "           0.7529, 0.8471, 0.6667, 0.0000],\n",
       "          [0.0078, 0.0000, 0.0000, 0.0000, 0.2588, 0.7843, 0.8706, 0.9294,\n",
       "           0.9373, 0.9490, 0.9647, 0.9529, 0.9569, 0.8667, 0.8627, 0.7569,\n",
       "           0.7490, 0.7020, 0.7137, 0.7137, 0.7098, 0.6902, 0.6510, 0.6588,\n",
       "           0.3882, 0.2275, 0.0000, 0.0000],\n",
       "          [0.0000, 0.0000, 0.0000, 0.0000, 0.0000, 0.0000, 0.0000, 0.1569,\n",
       "           0.2392, 0.1725, 0.2824, 0.1608, 0.1373, 0.0000, 0.0000, 0.0000,\n",
       "           0.0000, 0.0000, 0.0000, 0.0000, 0.0000, 0.0000, 0.0000, 0.0000,\n",
       "           0.0000, 0.0000, 0.0000, 0.0000],\n",
       "          [0.0000, 0.0000, 0.0000, 0.0000, 0.0000, 0.0000, 0.0000, 0.0000,\n",
       "           0.0000, 0.0000, 0.0000, 0.0000, 0.0000, 0.0000, 0.0000, 0.0000,\n",
       "           0.0000, 0.0000, 0.0000, 0.0000, 0.0000, 0.0000, 0.0000, 0.0000,\n",
       "           0.0000, 0.0000, 0.0000, 0.0000],\n",
       "          [0.0000, 0.0000, 0.0000, 0.0000, 0.0000, 0.0000, 0.0000, 0.0000,\n",
       "           0.0000, 0.0000, 0.0000, 0.0000, 0.0000, 0.0000, 0.0000, 0.0000,\n",
       "           0.0000, 0.0000, 0.0000, 0.0000, 0.0000, 0.0000, 0.0000, 0.0000,\n",
       "           0.0000, 0.0000, 0.0000, 0.0000]]]),\n",
       " 9)"
      ]
     },
     "execution_count": 93,
     "metadata": {},
     "output_type": "execute_result"
    }
   ],
   "source": [
    "image, label = train_data[0]\n",
    "image, label"
   ]
  },
  {
   "cell_type": "code",
   "execution_count": 94,
   "id": "8510aad6",
   "metadata": {},
   "outputs": [
    {
     "data": {
      "text/plain": [
       "['T-shirt/top',\n",
       " 'Trouser',\n",
       " 'Pullover',\n",
       " 'Dress',\n",
       " 'Coat',\n",
       " 'Sandal',\n",
       " 'Shirt',\n",
       " 'Sneaker',\n",
       " 'Bag',\n",
       " 'Ankle boot']"
      ]
     },
     "execution_count": 94,
     "metadata": {},
     "output_type": "execute_result"
    }
   ],
   "source": [
    "train_data.classes"
   ]
  },
  {
   "cell_type": "code",
   "execution_count": 95,
   "id": "0490139e",
   "metadata": {},
   "outputs": [
    {
     "data": {
      "text/plain": [
       "{'T-shirt/top': 0,\n",
       " 'Trouser': 1,\n",
       " 'Pullover': 2,\n",
       " 'Dress': 3,\n",
       " 'Coat': 4,\n",
       " 'Sandal': 5,\n",
       " 'Shirt': 6,\n",
       " 'Sneaker': 7,\n",
       " 'Bag': 8,\n",
       " 'Ankle boot': 9}"
      ]
     },
     "execution_count": 95,
     "metadata": {},
     "output_type": "execute_result"
    }
   ],
   "source": [
    "class_to_idx = train_data.class_to_idx\n",
    "\n",
    "class_to_idx"
   ]
  },
  {
   "cell_type": "code",
   "execution_count": 96,
   "id": "46639257",
   "metadata": {},
   "outputs": [
    {
     "name": "stdout",
     "output_type": "stream",
     "text": [
      "image shape torch.Size([1, 28, 28]), image label : 9\n"
     ]
    }
   ],
   "source": [
    "print(f\"image shape {image.shape}, image label : {label}\")"
   ]
  },
  {
   "cell_type": "code",
   "execution_count": null,
   "id": "472acefc",
   "metadata": {},
   "outputs": [],
   "source": []
  },
  {
   "cell_type": "code",
   "execution_count": 97,
   "id": "86557387",
   "metadata": {},
   "outputs": [
    {
     "name": "stdout",
     "output_type": "stream",
     "text": [
      "image shape : torch.Size([1, 28, 28])\n"
     ]
    },
    {
     "data": {
      "text/plain": [
       "Text(0.5, 1.0, '9')"
      ]
     },
     "execution_count": 97,
     "metadata": {},
     "output_type": "execute_result"
    },
    {
     "data": {
      "image/png": "[encoded data removed]",
      "text/plain": [
       "<Figure size 640x480 with 1 Axes>"
      ]
     },
     "metadata": {},
     "output_type": "display_data"
    }
   ],
   "source": [
    "import matplotlib.pyplot as plt\n",
    "image, label = train_data[0]\n",
    "print(f\"image shape : {image.shape}\")\n",
    "plt.imshow(image.squeeze())\n",
    "plt.title(label=label)"
   ]
  },
  {
   "cell_type": "code",
   "execution_count": 98,
   "id": "29d09f2a",
   "metadata": {},
   "outputs": [
    {
     "data": {
      "text/plain": [
       "Text(0.5, 1.0, 'Ankle boot')"
      ]
     },
     "execution_count": 98,
     "metadata": {},
     "output_type": "execute_result"
    },
    {
     "data": {
      "image/png": "[encoded data removed]",
      "text/plain": [
       "<Figure size 640x480 with 1 Axes>"
      ]
     },
     "metadata": {},
     "output_type": "display_data"
    }
   ],
   "source": [
    "plt.imshow(image.squeeze(), cmap=\"gray\")\n",
    "plt.title(train_data.classes[label])"
   ]
  },
  {
   "cell_type": "code",
   "execution_count": 99,
   "id": "c861c3cd",
   "metadata": {},
   "outputs": [
    {
     "name": "stdout",
     "output_type": "stream",
     "text": [
      "51979\n",
      "42734\n",
      "13659\n",
      "6422\n",
      "59493\n",
      "21233\n",
      "46167\n",
      "45118\n",
      "1395\n",
      "42440\n",
      "54631\n",
      "43917\n",
      "58674\n",
      "26802\n",
      "16135\n",
      "18049\n"
     ]
    },
    {
     "data": {
      "image/png": "[encoded data removed]",
      "text/plain": [
       "<Figure size 900x900 with 16 Axes>"
      ]
     },
     "metadata": {},
     "output_type": "display_data"
    }
   ],
   "source": [
    "# torch.manual_seed(42)\n",
    "fig = plt.figure(figsize=(9,9))\n",
    "rows, cols = 4, 4\n",
    "for i in range(1, rows * cols + 1):\n",
    "    random_index = torch.randint(0, len(train_data), size=[1]).item()\n",
    "    print(random_index)\n",
    "    img,label = train_data[random_index]\n",
    "    fig.add_subplot(rows,cols, i)\n",
    "    plt.imshow(img.squeeze(), cmap=\"gray\")\n",
    "    plt.title(train_data.classes[label])\n",
    "    plt.axis(False)"
   ]
  },
  {
   "cell_type": "code",
   "execution_count": 100,
   "id": "0772be5c",
   "metadata": {},
   "outputs": [],
   "source": [
    "# prepare data loader turns our python dataset to a iterable\n",
    "from torch.utils.data import DataLoader\n",
    "\n",
    "BATCH_SIZE = 32\n",
    "train_dataloader = DataLoader(dataset=train_data, batch_size=BATCH_SIZE, shuffle=True)\n",
    "\n",
    "test_dataloader = DataLoader(dataset=test_data, batch_size=BATCH_SIZE, shuffle=False)\n",
    "\n"
   ]
  },
  {
   "cell_type": "code",
   "execution_count": 101,
   "id": "f3e3ecfa",
   "metadata": {},
   "outputs": [
    {
     "name": "stdout",
     "output_type": "stream",
     "text": [
      "Dataloaders:  (<torch.utils.data.dataloader.DataLoader object at 0x00000277260E38A0>, <torch.utils.data.dataloader.DataLoader object at 0x000002772F423F00>)\n",
      "len of the train dataloader: 1875 batches of 32 \n",
      "len of the test dataloader: 313 batches of 32 \n"
     ]
    }
   ],
   "source": [
    "print(f\"Dataloaders:  {train_dataloader, test_dataloader}\")\n",
    "print(f\"len of the train dataloader: {len(train_dataloader)} batches of {BATCH_SIZE} \")\n",
    "print(f\"len of the test dataloader: {len(test_dataloader)} batches of {BATCH_SIZE} \")"
   ]
  },
  {
   "cell_type": "code",
   "execution_count": 102,
   "id": "67400f3b",
   "metadata": {},
   "outputs": [
    {
     "data": {
      "text/plain": [
       "(torch.Size([32, 1, 28, 28]), torch.Size([32]))"
      ]
     },
     "execution_count": 102,
     "metadata": {},
     "output_type": "execute_result"
    }
   ],
   "source": [
    "# what's inside a training dataloader\n",
    "\n",
    "train_featurs_batch, train_labels_batch = next(iter(train_dataloader))\n",
    "train_featurs_batch.shape, train_labels_batch.shape"
   ]
  },
  {
   "cell_type": "code",
   "execution_count": 103,
   "id": "f54340ec",
   "metadata": {},
   "outputs": [
    {
     "name": "stdout",
     "output_type": "stream",
     "text": [
      "image size torch.Size([1, 28, 28])\n",
      "Label: 2, label size torch.Size([])\n"
     ]
    },
    {
     "data": {
      "text/plain": [
       "(tensor([[[0.0000, 0.0000, 0.0000, 0.0000, 0.0000, 0.0000, 0.0000, 0.0000,\n",
       "           0.0000, 0.1412, 0.5216, 0.7373, 0.4510, 0.2706, 0.2784, 0.4196,\n",
       "           0.7294, 0.6431, 0.1137, 0.0000, 0.0000, 0.0000, 0.0000, 0.0000,\n",
       "           0.0000, 0.0000, 0.0000, 0.0000],\n",
       "          [0.0000, 0.0000, 0.0000, 0.0000, 0.0078, 0.0000, 0.0314, 0.5922,\n",
       "           0.9569, 0.9569, 0.9529, 0.9294, 0.9804, 0.9725, 0.9647, 0.9843,\n",
       "           0.9451, 0.9451, 0.9451, 0.9608, 0.5686, 0.0000, 0.0000, 0.0000,\n",
       "           0.0000, 0.0000, 0.0000, 0.0000],\n",
       "          [0.0000, 0.0000, 0.0000, 0.0196, 0.0000, 0.0902, 0.8980, 0.9961,\n",
       "           0.9373, 0.9059, 0.9333, 0.9490, 0.9451, 0.9529, 0.9529, 0.9490,\n",
       "           0.9529, 0.9098, 0.8941, 0.9294, 0.9961, 0.8706, 0.0941, 0.0000,\n",
       "           0.0118, 0.0000, 0.0000, 0.0000],\n",
       "          [0.0000, 0.0000, 0.0000, 0.0000, 0.0000, 0.6627, 0.9804, 0.8784,\n",
       "           0.9098, 0.9216, 0.7529, 0.5725, 0.5098, 0.3843, 0.3686, 0.3686,\n",
       "           0.5333, 0.9451, 0.9451, 0.9020, 0.8824, 0.9765, 0.6784, 0.0000,\n",
       "           0.0000, 0.0000, 0.0000, 0.0000],\n",
       "          [0.0000, 0.0000, 0.0000, 0.0000, 0.0000, 0.8706, 0.9216, 0.9137,\n",
       "           0.9059, 1.0000, 0.3686, 0.0000, 0.0000, 0.0000, 0.5176, 0.4667,\n",
       "           0.0000, 0.1647, 0.8745, 0.9216, 0.9020, 0.9137, 0.8863, 0.0000,\n",
       "           0.0000, 0.0000, 0.0000, 0.0000],\n",
       "          [0.0000, 0.0000, 0.0000, 0.0000, 0.0275, 0.9333, 0.9137, 0.9059,\n",
       "           0.9216, 0.8824, 0.3529, 0.2000, 0.2039, 0.6275, 0.7098, 1.0000,\n",
       "           0.1020, 0.0000, 0.4941, 0.9961, 0.9059, 0.9059, 0.9490, 0.0549,\n",
       "           0.0000, 0.0000, 0.0000, 0.0000],\n",
       "          [0.0000, 0.0000, 0.0000, 0.0000, 0.1373, 0.9647, 0.9176, 0.9098,\n",
       "           0.9255, 0.8863, 0.1412, 0.0078, 0.0275, 0.0000, 0.2549, 0.5765,\n",
       "           0.0000, 0.2941, 0.0980, 0.5137, 0.9608, 0.9059, 0.9686, 0.1765,\n",
       "           0.0000, 0.0000, 0.0000, 0.0000],\n",
       "          [0.0000, 0.0000, 0.0000, 0.0000, 0.2706, 0.9843, 0.9216, 0.9176,\n",
       "           0.9333, 0.6706, 0.1098, 0.1373, 0.0039, 0.0000, 0.8196, 0.1804,\n",
       "           0.2431, 0.7098, 0.3490, 0.7412, 0.9569, 0.9137, 0.9765, 0.3255,\n",
       "           0.0000, 0.0000, 0.0000, 0.0000],\n",
       "          [0.0000, 0.0000, 0.0000, 0.0000, 0.4118, 0.9882, 0.9255, 0.9255,\n",
       "           0.9255, 0.8157, 0.6039, 0.6196, 0.3490, 0.1569, 0.3176, 0.6235,\n",
       "           0.7294, 0.7804, 0.2392, 0.6039, 0.9804, 0.9137, 0.9843, 0.4510,\n",
       "           0.0000, 0.0000, 0.0000, 0.0000],\n",
       "          [0.0000, 0.0000, 0.0000, 0.0000, 0.5020, 1.0000, 0.9216, 0.9333,\n",
       "           0.9647, 0.7804, 0.3608, 0.4627, 0.4118, 0.7255, 0.7020, 0.4549,\n",
       "           0.4588, 0.9804, 0.4941, 0.6745, 0.9843, 0.9098, 0.9961, 0.5608,\n",
       "           0.0000, 0.0000, 0.0000, 0.0000],\n",
       "          [0.0000, 0.0000, 0.0000, 0.0000, 0.5255, 1.0000, 0.9294, 0.9373,\n",
       "           0.9843, 0.7490, 0.5686, 0.7569, 0.4824, 0.8196, 0.8824, 0.8275,\n",
       "           0.7098, 1.0000, 0.4667, 0.7059, 1.0000, 0.9137, 0.9961, 0.6196,\n",
       "           0.0000, 0.0000, 0.0000, 0.0000],\n",
       "          [0.0000, 0.0000, 0.0000, 0.0000, 0.5647, 1.0000, 0.9333, 0.9412,\n",
       "           0.9882, 0.7176, 0.3961, 0.6275, 0.5490, 0.9020, 0.9020, 0.9490,\n",
       "           0.7412, 1.0000, 0.5725, 0.7961, 0.9961, 0.9216, 0.9961, 0.7255,\n",
       "           0.0000, 0.0000, 0.0000, 0.0000],\n",
       "          [0.0000, 0.0000, 0.0000, 0.0000, 0.6863, 1.0000, 0.9451, 0.9373,\n",
       "           1.0000, 0.6980, 0.2980, 0.9373, 1.0000, 0.9098, 0.9059, 1.0000,\n",
       "           0.4549, 0.4039, 0.3686, 0.7882, 0.9961, 0.9333, 0.9804, 0.8471,\n",
       "           0.0000, 0.0000, 0.0000, 0.0000],\n",
       "          [0.0000, 0.0000, 0.0000, 0.0000, 0.8000, 0.9804, 0.9765, 0.8941,\n",
       "           0.9608, 0.7608, 0.3765, 1.0000, 0.9020, 0.9098, 0.9137, 1.0000,\n",
       "           0.4902, 0.4196, 0.4078, 0.6549, 0.9412, 0.9569, 0.9569, 0.9843,\n",
       "           0.0000, 0.0000, 0.0000, 0.0000],\n",
       "          [0.0000, 0.0000, 0.0000, 0.0000, 0.9373, 0.9529, 0.9804, 0.8157,\n",
       "           0.9098, 0.8314, 0.4235, 0.5922, 0.7569, 0.9255, 0.9216, 0.8980,\n",
       "           0.2941, 0.4392, 0.3725, 0.6157, 0.8118, 0.9843, 0.9373, 1.0000,\n",
       "           0.0000, 0.0000, 0.0000, 0.0000],\n",
       "          [0.0000, 0.0000, 0.0000, 0.0000, 1.0000, 0.9373, 0.9843, 0.7529,\n",
       "           0.8941, 0.9569, 0.5373, 0.3765, 0.9882, 0.9020, 1.0000, 0.6510,\n",
       "           0.2784, 0.4824, 0.3922, 0.6275, 0.6627, 1.0000, 0.9255, 0.9176,\n",
       "           0.0000, 0.0000, 0.0000, 0.0000],\n",
       "          [0.0000, 0.0000, 0.0000, 0.0000, 1.0000, 0.9294, 0.9843, 0.6784,\n",
       "           0.8980, 0.9804, 0.8745, 0.8196, 0.9922, 0.8902, 0.9922, 0.4667,\n",
       "           0.3569, 0.3961, 0.4549, 0.8118, 0.5882, 1.0000, 0.9216, 0.9451,\n",
       "           0.0902, 0.0000, 0.0000, 0.0000],\n",
       "          [0.0000, 0.0000, 0.0000, 0.0000, 1.0000, 0.9333, 1.0000, 0.5843,\n",
       "           0.9451, 0.9020, 0.9569, 0.9529, 0.9176, 0.9255, 0.9804, 0.4902,\n",
       "           0.4549, 0.5765, 0.9176, 1.0000, 0.3843, 1.0000, 0.9216, 0.9529,\n",
       "           0.2118, 0.0000, 0.0000, 0.0000],\n",
       "          [0.0000, 0.0000, 0.0000, 0.0549, 0.9333, 0.9373, 0.9922, 0.5059,\n",
       "           0.9804, 0.8980, 0.9216, 0.9098, 0.8980, 0.8902, 0.9059, 0.8902,\n",
       "           0.8471, 0.9804, 0.9882, 0.9765, 0.2863, 1.0000, 0.9294, 0.9608,\n",
       "           0.2824, 0.0000, 0.0000, 0.0000],\n",
       "          [0.0000, 0.0000, 0.0000, 0.1686, 0.9373, 0.9373, 0.9490, 0.4588,\n",
       "           1.0000, 0.8941, 0.9373, 0.9255, 0.9216, 0.9255, 0.9137, 0.9490,\n",
       "           0.9451, 0.9333, 0.8863, 1.0000, 0.3137, 0.9961, 0.9373, 0.9647,\n",
       "           0.3255, 0.0000, 0.0000, 0.0000],\n",
       "          [0.0000, 0.0000, 0.0000, 0.2549, 0.9529, 0.9529, 0.9176, 0.4588,\n",
       "           1.0000, 0.8941, 0.9294, 0.9255, 0.9255, 0.9216, 0.9176, 0.9098,\n",
       "           0.9137, 0.9098, 0.8863, 1.0000, 0.3412, 0.9490, 0.9451, 0.9608,\n",
       "           0.3294, 0.0000, 0.0000, 0.0000],\n",
       "          [0.0000, 0.0000, 0.0000, 0.3608, 0.9608, 0.9647, 0.7765, 0.4157,\n",
       "           1.0000, 0.8902, 0.9294, 0.9255, 0.9216, 0.9216, 0.9137, 0.9176,\n",
       "           0.9216, 0.9176, 0.8667, 1.0000, 0.3412, 0.8510, 0.9608, 0.9569,\n",
       "           0.3451, 0.0000, 0.0000, 0.0000],\n",
       "          [0.0000, 0.0000, 0.0000, 0.3961, 0.9569, 0.9804, 0.6353, 0.4000,\n",
       "           1.0000, 0.8941, 0.9255, 0.9216, 0.9216, 0.9216, 0.9176, 0.9176,\n",
       "           0.9216, 0.9216, 0.8706, 1.0000, 0.3216, 0.7059, 0.9804, 0.9529,\n",
       "           0.3647, 0.0000, 0.0000, 0.0000],\n",
       "          [0.0000, 0.0000, 0.0000, 0.4863, 0.9569, 0.9961, 0.4784, 0.3922,\n",
       "           1.0000, 0.9059, 0.9255, 0.9255, 0.9216, 0.9294, 0.9294, 0.9294,\n",
       "           0.9333, 0.9294, 0.9020, 1.0000, 0.2824, 0.5098, 0.9922, 0.9608,\n",
       "           0.3843, 0.0000, 0.0000, 0.0000],\n",
       "          [0.0000, 0.0000, 0.0000, 0.5961, 0.9373, 1.0000, 0.4078, 0.3843,\n",
       "           0.9804, 0.8980, 0.9059, 0.9098, 0.9059, 0.9098, 0.9098, 0.9098,\n",
       "           0.9098, 0.9020, 0.8941, 0.9843, 0.1490, 0.5333, 1.0000, 0.9529,\n",
       "           0.4392, 0.0000, 0.0000, 0.0000],\n",
       "          [0.0000, 0.0000, 0.0000, 0.6314, 0.9333, 0.9961, 0.1294, 0.3725,\n",
       "           1.0000, 0.9608, 0.9843, 0.9843, 0.9843, 0.9882, 0.9882, 0.9882,\n",
       "           0.9882, 0.9843, 0.9804, 1.0000, 0.0000, 0.5569, 0.9961, 0.9294,\n",
       "           0.6353, 0.0000, 0.0000, 0.0000],\n",
       "          [0.0000, 0.0000, 0.0000, 0.6118, 0.9961, 1.0000, 0.2588, 0.0000,\n",
       "           0.3529, 0.2627, 0.2824, 0.2902, 0.3098, 0.3255, 0.3373, 0.3529,\n",
       "           0.3608, 0.3882, 0.3961, 0.4902, 0.0000, 0.5412, 1.0000, 0.9765,\n",
       "           0.5882, 0.0000, 0.0000, 0.0000],\n",
       "          [0.0000, 0.0000, 0.0000, 0.3294, 0.7451, 0.7333, 0.1922, 0.0000,\n",
       "           0.0000, 0.0000, 0.0000, 0.0000, 0.0000, 0.0000, 0.0000, 0.0000,\n",
       "           0.0000, 0.0000, 0.0000, 0.0000, 0.0000, 0.3490, 0.8275, 0.8275,\n",
       "           0.3647, 0.0000, 0.0000, 0.0000]]]),\n",
       " tensor(2))"
      ]
     },
     "execution_count": 103,
     "metadata": {},
     "output_type": "execute_result"
    },
    {
     "data": {
      "image/png": "[encoded data removed]",
      "text/plain": [
       "<Figure size 640x480 with 1 Axes>"
      ]
     },
     "metadata": {},
     "output_type": "display_data"
    }
   ],
   "source": [
    "# show a sample\n",
    "# torch.manual_seed(42)\n",
    "random_idx = torch.randint(0, len(train_featurs_batch), size=[1]).item()\n",
    "img, label = train_featurs_batch[random_idx], train_labels_batch[random_idx]\n",
    "plt.imshow(img.squeeze(), cmap=\"gray\")\n",
    "plt.title(train_data.classes[label])\n",
    "plt.axis(False)\n",
    "print(f\"image size {img.shape}\")\n",
    "print(f\"Label: {label}, label size {label.shape}\")\n",
    "img, label"
   ]
  },
  {
   "cell_type": "code",
   "execution_count": 104,
   "id": "9f4ae6b1",
   "metadata": {},
   "outputs": [
    {
     "name": "stdout",
     "output_type": "stream",
     "text": [
      "shape before flattening: torch.Size([1, 28, 28])\n",
      "shape after flattening: torch.Size([1, 784])\n"
     ]
    }
   ],
   "source": [
    "# model 0 build a base line model \n",
    "flatten_model = nn.Flatten()\n",
    "\n",
    "# get a single sample \n",
    "X = train_featurs_batch[0]\n",
    "\n",
    "\n",
    "# flatten the sample \n",
    "output = flatten_model(X)\n",
    "\n",
    "# print out what happened\n",
    "print(f\"shape before flattening: {X.shape}\")\n",
    "print(f\"shape after flattening: {output.shape}\")\n",
    "\n"
   ]
  },
  {
   "cell_type": "code",
   "execution_count": 105,
   "id": "fe430c70",
   "metadata": {},
   "outputs": [
    {
     "data": {
      "text/plain": [
       "tensor([[0.0000, 0.0000, 0.0000, 0.0000, 0.0000, 0.0000, 0.0000, 0.0000, 0.0000,\n",
       "         0.0000, 0.0000, 0.0000, 0.0000, 0.0000, 0.0000, 0.0000, 0.0000, 0.0000,\n",
       "         0.0000, 0.0000, 0.0000, 0.0000, 0.0000, 0.0000, 0.0000, 0.0000, 0.0000,\n",
       "         0.0000, 0.0000, 0.0000, 0.0000, 0.0000, 0.0000, 0.0000, 0.0000, 0.0000,\n",
       "         0.0000, 0.0000, 0.0000, 0.0000, 0.0000, 0.0000, 0.0000, 0.0000, 0.0000,\n",
       "         0.0000, 0.0000, 0.0000, 0.0000, 0.0000, 0.0000, 0.0000, 0.0000, 0.0000,\n",
       "         0.0000, 0.0000, 0.0000, 0.0000, 0.0000, 0.0000, 0.0000, 0.0000, 0.0000,\n",
       "         0.0000, 0.0000, 0.0000, 0.0000, 0.0000, 0.0000, 0.0000, 0.0000, 0.0000,\n",
       "         0.0000, 0.0000, 0.0000, 0.0000, 0.0000, 0.0000, 0.0000, 0.0000, 0.0000,\n",
       "         0.0000, 0.0000, 0.0000, 0.0000, 0.0000, 0.0000, 0.0000, 0.0000, 0.0000,\n",
       "         0.0000, 0.0000, 0.0000, 0.0000, 0.0000, 0.0000, 0.0000, 0.0000, 0.0000,\n",
       "         0.0000, 0.0000, 0.0000, 0.0000, 0.0000, 0.0000, 0.0000, 0.0000, 0.0000,\n",
       "         0.0000, 0.0000, 0.0000, 0.0000, 0.0000, 0.0000, 0.0000, 0.0000, 0.0000,\n",
       "         0.0000, 0.0000, 0.0000, 0.0000, 0.0000, 0.0000, 0.0000, 0.0000, 0.0000,\n",
       "         0.0000, 0.0000, 0.0000, 0.0000, 0.0000, 0.0000, 0.0000, 0.0000, 0.0000,\n",
       "         0.0000, 0.0000, 0.0000, 0.0000, 0.0000, 0.0000, 0.0000, 0.0000, 0.0000,\n",
       "         0.0000, 0.0000, 0.0000, 0.0000, 0.0000, 0.0000, 0.0000, 0.0000, 0.0000,\n",
       "         0.0000, 0.0000, 0.0000, 0.0000, 0.1059, 0.6235, 0.1098, 0.0000, 0.0000,\n",
       "         0.0000, 0.0000, 0.0000, 0.0000, 0.0118, 0.0000, 0.0000, 0.0000, 0.0000,\n",
       "         0.0000, 0.0000, 0.0000, 0.0000, 0.0000, 0.0000, 0.0000, 0.0000, 0.0000,\n",
       "         0.0000, 0.0000, 0.0157, 0.0000, 0.3020, 0.8824, 0.9569, 0.5647, 0.0000,\n",
       "         0.0000, 0.0000, 0.0000, 0.0000, 0.0000, 0.0000, 0.0000, 0.0000, 0.0000,\n",
       "         0.0000, 0.0000, 0.0000, 0.0000, 0.0000, 0.0000, 0.0000, 0.0000, 0.0000,\n",
       "         0.0000, 0.0000, 0.0118, 0.0000, 0.0000, 0.6275, 0.8118, 0.8157, 0.7843,\n",
       "         0.8510, 0.9412, 0.7922, 0.6510, 0.6157, 0.5490, 0.0000, 0.0000, 0.0000,\n",
       "         0.0000, 0.0000, 0.0000, 0.0000, 0.0000, 0.0000, 0.0000, 0.0000, 0.0000,\n",
       "         0.0000, 0.0000, 0.0000, 0.0431, 0.0000, 0.3725, 0.9176, 0.6510, 0.8078,\n",
       "         0.8745, 0.8902, 0.8784, 0.9137, 0.9255, 0.8784, 0.8745, 0.8745, 0.0314,\n",
       "         0.0000, 0.0000, 0.0000, 0.0000, 0.0000, 0.0000, 0.0000, 0.0000, 0.0000,\n",
       "         0.0000, 0.0000, 0.0000, 0.0157, 0.0000, 0.0745, 0.8353, 0.7725, 0.5882,\n",
       "         0.9216, 0.9020, 0.8314, 0.8314, 0.8353, 0.8824, 0.8745, 0.8510, 0.9059,\n",
       "         0.4667, 0.0000, 0.0000, 0.0000, 0.0000, 0.0000, 0.0000, 0.0000, 0.0000,\n",
       "         0.0000, 0.0000, 0.0000, 0.0000, 0.0000, 0.0000, 0.2549, 0.9412, 0.8078,\n",
       "         0.7176, 0.8745, 0.9098, 0.8941, 0.8784, 0.8353, 0.8627, 0.8784, 0.8431,\n",
       "         0.8627, 0.7765, 0.0000, 0.0000, 0.0000, 0.0000, 0.0000, 0.0000, 0.0000,\n",
       "         0.0000, 0.0000, 0.0118, 0.0000, 0.0039, 0.0000, 0.0000, 0.7412, 0.8667,\n",
       "         0.8235, 0.8863, 0.8980, 0.9294, 0.8941, 0.9098, 0.8941, 0.9020, 0.9020,\n",
       "         0.8667, 0.8980, 0.5255, 0.0000, 0.0000, 0.0000, 0.0000, 0.0039, 0.0039,\n",
       "         0.0000, 0.0039, 0.0039, 0.0078, 0.0314, 0.0000, 0.1373, 0.8275, 0.8902,\n",
       "         0.8235, 0.8275, 0.9333, 0.8784, 0.9216, 0.8980, 0.9137, 0.9020, 0.9451,\n",
       "         0.8706, 0.9608, 0.9490, 0.0000, 0.0000, 0.0000, 0.0000, 0.0000, 0.0000,\n",
       "         0.0039, 0.0078, 0.0000, 0.0078, 0.0078, 0.0000, 0.0000, 0.5490, 0.8980,\n",
       "         0.7922, 0.8275, 0.9373, 0.9098, 0.8824, 0.9137, 0.8902, 0.8784, 0.8863,\n",
       "         0.8667, 0.8902, 0.8745, 0.0000, 0.0000, 0.0000, 0.0000, 0.0157, 0.0196,\n",
       "         0.0196, 0.0275, 0.0118, 0.0000, 0.0000, 0.0000, 0.0000, 0.6314, 0.8588,\n",
       "         0.7569, 0.6549, 0.8314, 0.8784, 0.8941, 0.9294, 0.9451, 0.9529, 0.9373,\n",
       "         0.9333, 0.9098, 0.9647, 0.4392, 0.0000, 0.0000, 0.0039, 0.0000, 0.0000,\n",
       "         0.0000, 0.0000, 0.0000, 0.0000, 0.0000, 0.0000, 0.4314, 0.9333, 0.8667,\n",
       "         0.7333, 0.7804, 0.8941, 0.8549, 0.8588, 0.8784, 0.9176, 0.9255, 0.9569,\n",
       "         0.9373, 0.9529, 0.9176, 0.9686, 0.7294, 0.0000, 0.0000, 0.0000, 0.0000,\n",
       "         0.0549, 0.1843, 0.2000, 0.2235, 0.2471, 0.5255, 1.0000, 0.8549, 0.7765,\n",
       "         0.7412, 0.8431, 0.9098, 0.8431, 0.8392, 0.8706, 0.8824, 0.9020, 0.9137,\n",
       "         0.9059, 0.8980, 0.8745, 0.8627, 0.9294, 0.7961, 0.0000, 0.0000, 0.0000,\n",
       "         0.5373, 0.8039, 0.7765, 0.8078, 0.7804, 0.8235, 0.8824, 0.7765, 0.7176,\n",
       "         0.7961, 0.8863, 0.8902, 0.8235, 0.8235, 0.8392, 0.8588, 0.8627, 0.8745,\n",
       "         0.8941, 0.8902, 0.8941, 0.8745, 0.8510, 0.8824, 0.7686, 0.0000, 0.0000,\n",
       "         0.0627, 0.6314, 0.7412, 0.7922, 0.8118, 0.8431, 0.8314, 0.8275, 0.8471,\n",
       "         0.8902, 0.8980, 0.9020, 0.9059, 0.8980, 0.9294, 0.9451, 0.9608, 0.9490,\n",
       "         0.9569, 0.9725, 0.9608, 0.9569, 0.9098, 0.8941, 0.9412, 0.7765, 0.0000,\n",
       "         0.0000, 0.3373, 0.5490, 0.4902, 0.5490, 0.6392, 0.7176, 0.7647, 0.8118,\n",
       "         0.8353, 0.8627, 0.8824, 0.8745, 0.8863, 0.8863, 0.8745, 0.8706, 0.8745,\n",
       "         0.8627, 0.8667, 0.8824, 0.8627, 0.8431, 0.8314, 0.7490, 0.7569, 0.4902,\n",
       "         0.0000, 0.0000, 0.1020, 0.7529, 0.6275, 0.5882, 0.5333, 0.4745, 0.5020,\n",
       "         0.5843, 0.5843, 0.5804, 0.5569, 0.5216, 0.4941, 0.4510, 0.4235, 0.4235,\n",
       "         0.4431, 0.4706, 0.4471, 0.4392, 0.4196, 0.4078, 0.4353, 0.4078, 0.4941,\n",
       "         0.1804, 0.0000, 0.0000, 0.0000, 0.0000, 0.2627, 0.5176, 0.6588, 0.7020,\n",
       "         0.6980, 0.6157, 0.5451, 0.5294, 0.5686, 0.6078, 0.6078, 0.6510, 0.7020,\n",
       "         0.7137, 0.7176, 0.7255, 0.7137, 0.6902, 0.6745, 0.6667, 0.6824, 0.6157,\n",
       "         0.7451, 0.2471, 0.0000, 0.0118, 0.0078, 0.0000, 0.0000, 0.0000, 0.0000,\n",
       "         0.1098, 0.2392, 0.3569, 0.4000, 0.4078, 0.4078, 0.4039, 0.3882, 0.4000,\n",
       "         0.4196, 0.4314, 0.4471, 0.4745, 0.4980, 0.5020, 0.5020, 0.5098, 0.4941,\n",
       "         0.4588, 0.4392, 0.0510, 0.0000, 0.0039, 0.0000, 0.0000, 0.0000, 0.0000,\n",
       "         0.0000, 0.0000, 0.0000, 0.0000, 0.0000, 0.0000, 0.0000, 0.0000, 0.0000,\n",
       "         0.0000, 0.0000, 0.0000, 0.0000, 0.0000, 0.0000, 0.0000, 0.0000, 0.0000,\n",
       "         0.0000, 0.0000, 0.0000, 0.0000, 0.0000, 0.0000, 0.0000, 0.0000, 0.0000,\n",
       "         0.0000, 0.0000, 0.0000, 0.0000, 0.0000, 0.0000, 0.0000, 0.0000, 0.0000,\n",
       "         0.0000, 0.0000, 0.0000, 0.0000, 0.0000, 0.0000, 0.0000, 0.0000, 0.0000,\n",
       "         0.0000, 0.0000, 0.0000, 0.0000, 0.0000, 0.0000, 0.0000, 0.0000, 0.0000,\n",
       "         0.0000, 0.0000, 0.0000, 0.0000, 0.0000, 0.0000, 0.0000, 0.0000, 0.0000,\n",
       "         0.0000, 0.0000, 0.0000, 0.0000, 0.0000, 0.0000, 0.0000, 0.0000, 0.0000,\n",
       "         0.0000, 0.0000, 0.0000, 0.0000, 0.0000, 0.0000, 0.0000, 0.0000, 0.0000,\n",
       "         0.0000, 0.0000, 0.0000, 0.0000, 0.0000, 0.0000, 0.0000, 0.0000, 0.0000,\n",
       "         0.0000, 0.0000, 0.0000, 0.0000, 0.0000, 0.0000, 0.0000, 0.0000, 0.0000,\n",
       "         0.0000, 0.0000, 0.0000, 0.0000, 0.0000, 0.0000, 0.0000, 0.0000, 0.0000,\n",
       "         0.0000, 0.0000, 0.0000, 0.0000, 0.0000, 0.0000, 0.0000, 0.0000, 0.0000,\n",
       "         0.0000, 0.0000, 0.0000, 0.0000, 0.0000, 0.0000, 0.0000, 0.0000, 0.0000,\n",
       "         0.0000, 0.0000, 0.0000, 0.0000, 0.0000, 0.0000, 0.0000, 0.0000, 0.0000,\n",
       "         0.0000]])"
      ]
     },
     "execution_count": 105,
     "metadata": {},
     "output_type": "execute_result"
    }
   ],
   "source": [
    "output.squeeze()\n",
    "\n",
    "output"
   ]
  },
  {
   "cell_type": "code",
   "execution_count": 106,
   "id": "41606528",
   "metadata": {},
   "outputs": [],
   "source": [
    "class FashionMNISTModelV0(nn.Module):\n",
    "    def __init__(self, input_shape:int, output_shape:int, hidden_layer:int):\n",
    "        super().__init__()\n",
    "        self.layer_stack = nn.Sequential(\n",
    "            nn.Flatten(),\n",
    "            nn.Linear(in_features=input_shape, out_features=hidden_layer),\n",
    "            nn.Linear(in_features=hidden_layer, out_features=output_shape)\n",
    "        )\n",
    "    def forward(self, x:torch.Tensor):\n",
    "        return self.layer_stack(x)"
   ]
  },
  {
   "cell_type": "code",
   "execution_count": 107,
   "id": "51601681",
   "metadata": {},
   "outputs": [
    {
     "data": {
      "text/plain": [
       "FashionMNISTModelV0(\n",
       "  (layer_stack): Sequential(\n",
       "    (0): Flatten(start_dim=1, end_dim=-1)\n",
       "    (1): Linear(in_features=784, out_features=10, bias=True)\n",
       "    (2): Linear(in_features=10, out_features=10, bias=True)\n",
       "  )\n",
       ")"
      ]
     },
     "execution_count": 107,
     "metadata": {},
     "output_type": "execute_result"
    }
   ],
   "source": [
    "torch.manual_seed(42)\n",
    "\n",
    "# setup model with input params\n",
    "\n",
    "model_0 = FashionMNISTModelV0(input_shape=784,  # 28 * 28\n",
    "                              output_shape=len(train_data.classes),\n",
    "                              hidden_layer=10).to(\"cpu\")\n",
    "\n",
    "\n",
    "model_0"
   ]
  },
  {
   "cell_type": "code",
   "execution_count": null,
   "id": "bc45e228",
   "metadata": {},
   "outputs": [],
   "source": []
  },
  {
   "cell_type": "code",
   "execution_count": 108,
   "id": "86316ace",
   "metadata": {},
   "outputs": [
    {
     "data": {
      "text/plain": [
       "OrderedDict([('layer_stack.1.weight',\n",
       "              tensor([[ 0.0273,  0.0296, -0.0084,  ..., -0.0142,  0.0093,  0.0135],\n",
       "                      [-0.0188, -0.0354,  0.0187,  ..., -0.0106, -0.0001,  0.0115],\n",
       "                      [-0.0008,  0.0017,  0.0045,  ..., -0.0127, -0.0188,  0.0059],\n",
       "                      ...,\n",
       "                      [-0.0116,  0.0273, -0.0344,  ...,  0.0176,  0.0283, -0.0011],\n",
       "                      [-0.0230,  0.0257,  0.0291,  ..., -0.0187, -0.0087,  0.0001],\n",
       "                      [ 0.0176, -0.0147,  0.0053,  ..., -0.0336, -0.0221,  0.0205]])),\n",
       "             ('layer_stack.1.bias',\n",
       "              tensor([-0.0093,  0.0283, -0.0033,  0.0255,  0.0017,  0.0037, -0.0302, -0.0123,\n",
       "                       0.0018,  0.0163])),\n",
       "             ('layer_stack.2.weight',\n",
       "              tensor([[ 0.0614, -0.0687,  0.0021,  0.2718,  0.2109,  0.1079, -0.2279, -0.1063,\n",
       "                        0.2019,  0.2847],\n",
       "                      [-0.1495,  0.1344, -0.0740,  0.2006, -0.0475, -0.2514, -0.3130, -0.0118,\n",
       "                        0.0932, -0.1864],\n",
       "                      [ 0.2488,  0.1500,  0.1907,  0.1457, -0.3050, -0.0580,  0.1643,  0.1565,\n",
       "                       -0.2877, -0.1792],\n",
       "                      [ 0.2305, -0.2618,  0.2397, -0.0610,  0.0232,  0.1542,  0.0851, -0.2027,\n",
       "                        0.1030, -0.2715],\n",
       "                      [-0.1596, -0.0555, -0.0633,  0.2302, -0.1726,  0.2654,  0.1473,  0.1029,\n",
       "                        0.2252, -0.2160],\n",
       "                      [-0.2725,  0.0118,  0.1559,  0.1596,  0.0132,  0.3024,  0.1124,  0.1366,\n",
       "                       -0.1533,  0.0965],\n",
       "                      [-0.1184, -0.2555, -0.2057, -0.1909, -0.0477, -0.1324,  0.2905,  0.1307,\n",
       "                       -0.2629,  0.0133],\n",
       "                      [ 0.2727, -0.0127,  0.0513,  0.0863, -0.1043, -0.2047, -0.1185, -0.0825,\n",
       "                        0.2488, -0.2571],\n",
       "                      [ 0.0425, -0.1209, -0.0336, -0.0281, -0.1227,  0.0730,  0.0747, -0.1816,\n",
       "                        0.1943,  0.2853],\n",
       "                      [-0.1310,  0.0645, -0.1171,  0.2168, -0.0245, -0.2820,  0.0736,  0.2621,\n",
       "                        0.0012, -0.0810]])),\n",
       "             ('layer_stack.2.bias',\n",
       "              tensor([-0.0087,  0.1791,  0.2712, -0.0791,  0.1685,  0.1762,  0.2825,  0.2266,\n",
       "                      -0.2612, -0.2613]))])"
      ]
     },
     "execution_count": 108,
     "metadata": {},
     "output_type": "execute_result"
    }
   ],
   "source": [
    "model_0.state_dict()"
   ]
  },
  {
   "cell_type": "code",
   "execution_count": 109,
   "id": "8349aae3",
   "metadata": {},
   "outputs": [
    {
     "name": "stdout",
     "output_type": "stream",
     "text": [
      "helper_functions.py already exists, skipping download\n"
     ]
    }
   ],
   "source": [
    "# setup loss and optimizer and torch metrics\n",
    "import requests\n",
    "from pathlib import Path\n",
    "if Path(\"helper_functions.py\").is_file():\n",
    "    print(\"helper_functions.py already exists, skipping download\")\n"
   ]
  },
  {
   "cell_type": "code",
   "execution_count": 110,
   "id": "d71688a0",
   "metadata": {},
   "outputs": [],
   "source": [
    "from helper_functions import accuracy_fn\n",
    "\n",
    "loss_fn = nn.CrossEntropyLoss()\n",
    "\n",
    "\n",
    "optimizer = torch.optim.SGD(params=model_0.parameters(), lr=0.1)\n",
    "\n",
    "\n"
   ]
  },
  {
   "cell_type": "code",
   "execution_count": 111,
   "id": "c224a31f",
   "metadata": {},
   "outputs": [],
   "source": [
    "# create a function to time our experiments \n",
    "from timeit import default_timer as timer\n",
    "\n",
    "def print_train_time(start:float,\n",
    "                     end:float, \n",
    "                     device:torch.device = None):\n",
    "    \n",
    "    \"Prints difference between start and end time\"\n",
    "    \n",
    "    \n",
    "    total_time = end - start\n",
    "    \n",
    "    print(f\"train time on {device}: {total_time:.3f} seconds\")\n",
    "    \n",
    "    return total_time"
   ]
  },
  {
   "cell_type": "code",
   "execution_count": 112,
   "id": "b5459d97",
   "metadata": {},
   "outputs": [
    {
     "name": "stdout",
     "output_type": "stream",
     "text": [
      "train time on cuda: 0.000 seconds\n"
     ]
    },
    {
     "data": {
      "text/plain": [
       "4.970002919435501e-05"
      ]
     },
     "execution_count": 112,
     "metadata": {},
     "output_type": "execute_result"
    }
   ],
   "source": [
    "start_time = timer()\n",
    "\n",
    "end_time = timer()\n",
    "\n",
    "\n",
    "print_train_time(start=start_time, end=end_time, device=\"cuda\")\n"
   ]
  },
  {
   "cell_type": "code",
   "execution_count": null,
   "id": "7c757fae",
   "metadata": {},
   "outputs": [],
   "source": []
  },
  {
   "cell_type": "code",
   "execution_count": 113,
   "id": "89dd2af9",
   "metadata": {},
   "outputs": [
    {
     "name": "stderr",
     "output_type": "stream",
     "text": [
      "  0%|          | 0/3 [00:00<?, ?it/s]"
     ]
    },
    {
     "name": "stdout",
     "output_type": "stream",
     "text": [
      "Epoch: 0\n",
      "-------\n",
      "Looked at 0/60000 samples\n",
      "Looked at 12800/60000 samples\n",
      "Looked at 25600/60000 samples\n",
      "Looked at 38400/60000 samples\n",
      "Looked at 51200/60000 samples\n"
     ]
    },
    {
     "name": "stderr",
     "output_type": "stream",
     "text": [
      " 33%|███▎      | 1/3 [00:07<00:15,  7.83s/it]"
     ]
    },
    {
     "name": "stdout",
     "output_type": "stream",
     "text": [
      "\n",
      "Train loss: 0.59039 | Test loss: 0.50954, Test acc: 82.04%\n",
      "\n",
      "Epoch: 1\n",
      "-------\n",
      "Looked at 0/60000 samples\n",
      "Looked at 12800/60000 samples\n",
      "Looked at 25600/60000 samples\n",
      "Looked at 38400/60000 samples\n",
      "Looked at 51200/60000 samples\n"
     ]
    },
    {
     "name": "stderr",
     "output_type": "stream",
     "text": [
      " 67%|██████▋   | 2/3 [00:17<00:08,  8.62s/it]"
     ]
    },
    {
     "name": "stdout",
     "output_type": "stream",
     "text": [
      "\n",
      "Train loss: 0.47633 | Test loss: 0.47989, Test acc: 83.20%\n",
      "\n",
      "Epoch: 2\n",
      "-------\n",
      "Looked at 0/60000 samples\n",
      "Looked at 12800/60000 samples\n",
      "Looked at 25600/60000 samples\n",
      "Looked at 38400/60000 samples\n",
      "Looked at 51200/60000 samples\n"
     ]
    },
    {
     "name": "stderr",
     "output_type": "stream",
     "text": [
      "100%|██████████| 3/3 [00:26<00:00,  8.93s/it]"
     ]
    },
    {
     "name": "stdout",
     "output_type": "stream",
     "text": [
      "\n",
      "Train loss: 0.45503 | Test loss: 0.47664, Test acc: 83.43%\n",
      "\n",
      "train time on cpu: 26.793 seconds\n"
     ]
    },
    {
     "name": "stderr",
     "output_type": "stream",
     "text": [
      "\n"
     ]
    }
   ],
   "source": [
    "# Import tqdm for progress bar\n",
    "from tqdm.auto import tqdm\n",
    "\n",
    "# Set the seed and start the timer\n",
    "torch.manual_seed(42)\n",
    "train_time_start_on_cpu = timer()\n",
    "\n",
    "# Set the number of epochs (we'll keep this small for faster training times)\n",
    "epochs = 3\n",
    "\n",
    "# Create training and testing loop\n",
    "for epoch in tqdm(range(epochs)):\n",
    "    print(f\"Epoch: {epoch}\\n-------\")\n",
    "    ### Training\n",
    "    train_loss = 0\n",
    "    # Add a loop to loop through training batches\n",
    "    for batch, (X, y) in enumerate(train_dataloader):\n",
    "        model_0.train()\n",
    "        # 1. Forward pass\n",
    "        y_pred = model_0(X)\n",
    "\n",
    "        # 2. Calculate loss (per batch)\n",
    "        loss = loss_fn(y_pred, y)\n",
    "        train_loss += loss  # accumulatively add up the loss per epoch\n",
    "\n",
    "        # 3. Optimizer zero grad\n",
    "        optimizer.zero_grad()\n",
    "\n",
    "        # 4. Loss backward\n",
    "        loss.backward()\n",
    "\n",
    "        # 5. Optimizer step\n",
    "        optimizer.step()\n",
    "\n",
    "        # Print out how many samples have been seen\n",
    "        if batch % 400 == 0:\n",
    "            print(f\"Looked at {batch * len(X)}/{len(train_dataloader.dataset)} samples\")\n",
    "\n",
    "    # Divide total train loss by length of train dataloader (average loss per batch per epoch)\n",
    "    train_loss /= len(train_dataloader)\n",
    "\n",
    "    ### Testing\n",
    "    # Setup variables for accumulatively adding up loss and accuracy\n",
    "    test_loss, test_acc = 0, 0\n",
    "    model_0.eval()\n",
    "    with torch.inference_mode():\n",
    "        for X, y in test_dataloader:\n",
    "            # 1. Forward pass\n",
    "            test_pred = model_0(X)\n",
    "\n",
    "            # 2. Calculate loss (accumulatively)\n",
    "            test_loss += loss_fn(\n",
    "                test_pred, y\n",
    "            )  # accumulatively add up the loss per epoch\n",
    "\n",
    "            # 3. Calculate accuracy (preds need to be same as y_true)\n",
    "            test_acc += accuracy_fn(y_true=y, y_pred=test_pred.argmax(dim=1))\n",
    "\n",
    "        # Calculations on test metrics need to happen inside torch.inference_mode()\n",
    "        # Divide total test loss by length of test dataloader (per batch)\n",
    "        test_loss /= len(test_dataloader)\n",
    "\n",
    "        # Divide total accuracy by length of test dataloader (per batch)\n",
    "        test_acc /= len(test_dataloader)\n",
    "\n",
    "    ## Print out what's happening\n",
    "    print(\n",
    "        f\"\\nTrain loss: {train_loss:.5f} | Test loss: {test_loss:.5f}, Test acc: {test_acc:.2f}%\\n\"\n",
    "    )\n",
    "\n",
    "# Calculate training time\n",
    "train_time_end_on_cpu = timer()\n",
    "total_train_time_model_0 = print_train_time(\n",
    "    start=train_time_start_on_cpu,\n",
    "    end=train_time_end_on_cpu,\n",
    "    device=str(next(model_0.parameters()).device),\n",
    ")"
   ]
  },
  {
   "cell_type": "code",
   "execution_count": 114,
   "id": "c32c1120",
   "metadata": {},
   "outputs": [],
   "source": [
    "# make predictions and get model 0 results\n",
    "\n",
    "torch.manual_seed(42)\n",
    "\n",
    "\n",
    "def eval_model(model:torch.nn.Module, data_loader:torch.utils.data.DataLoader, loss_fn:nn.Module,  acc_fn):\n",
    "    \"\"\" RETURNS A DICT CONTAINING THE RESULT OF THE MODEL PREDICTING ON DATA_LOADER \"\"\"\n",
    "    \n",
    "    loss, acc = 0, 0\n",
    "    model.eval()\n",
    "    with torch.inference_mode():\n",
    "        for X,y in tqdm(data_loader):\n",
    "            # forward pass\n",
    "            y_pred = model(X)\n",
    "            \n",
    "            # accumulate\n",
    "            loss += loss_fn(y_pred, y)\n",
    "            acc += accuracy_fn(y_true=y, y_pred=y_pred.argmax(dim=1))\n",
    "            \n",
    "        # scale the loss and acc to find the average loss/acc per batch\n",
    "        loss /= len(data_loader)\n",
    "        acc /= len(data_loader)\n",
    "        \n",
    "        \n",
    "    return {\"model_name\" : model_0.__class__.__name__,\n",
    "            \"model_loss\" : loss.item(),\n",
    "            \"model_acc\" : acc }\n",
    "    \n",
    "    \n",
    "    "
   ]
  },
  {
   "cell_type": "code",
   "execution_count": 115,
   "id": "0d5eb82c",
   "metadata": {},
   "outputs": [
    {
     "name": "stderr",
     "output_type": "stream",
     "text": [
      "100%|██████████| 313/313 [00:01<00:00, 267.94it/s]\n"
     ]
    },
    {
     "data": {
      "text/plain": [
       "{'model_name': 'FashionMNISTModelV0',\n",
       " 'model_loss': 0.47663894295692444,\n",
       " 'model_acc': 83.42651757188499}"
      ]
     },
     "execution_count": 115,
     "metadata": {},
     "output_type": "execute_result"
    }
   ],
   "source": [
    "# calculate model 0 results on test dataset\n",
    "model_0_results = eval_model(model= model_0, data_loader=test_dataloader, loss_fn=loss_fn, acc_fn=accuracy_fn)\n",
    "\n",
    "\n",
    "model_0_results"
   ]
  },
  {
   "cell_type": "code",
   "execution_count": 116,
   "id": "64a908b1",
   "metadata": {},
   "outputs": [],
   "source": [
    "device = \"cuda\" if torch.cuda.is_available() else \"cpu\"\n",
    "\n"
   ]
  },
  {
   "cell_type": "code",
   "execution_count": 126,
   "id": "375b5b59",
   "metadata": {},
   "outputs": [],
   "source": [
    "class FashionMNISTModelV1(nn.Module):\n",
    "    def __init__(self, input_features:int, output_features:int, hidden_neurons:int):\n",
    "        super().__init__()\n",
    "\n",
    "        self.layer_stack = nn.Sequential(\n",
    "            nn.Flatten(),\n",
    "            nn.Linear(in_features=input_features, out_features=hidden_neurons),\n",
    "            nn.ReLU(),\n",
    "            nn.Linear(in_features=hidden_neurons, out_features=hidden_neurons),\n",
    "            nn.ReLU(),\n",
    "            nn.Linear(in_features=hidden_neurons, out_features=output_features)\n",
    "        )\n",
    "        \n",
    "    def forward(self, x:torch.Tensor):\n",
    "        return self.layer_stack(x)\n",
    "    "
   ]
  },
  {
   "cell_type": "code",
   "execution_count": 130,
   "id": "7bae416b",
   "metadata": {},
   "outputs": [],
   "source": [
    "model_1 = FashionMNISTModelV1(\n",
    "    input_features=784,          # Corrected name\n",
    "    output_features=len(train_data.classes), # Corrected name (assuming train_data is defined)\n",
    "    hidden_neurons=10            # Corrected name\n",
    ").to(device=device)"
   ]
  },
  {
   "cell_type": "code",
   "execution_count": 131,
   "id": "08f93a5e",
   "metadata": {},
   "outputs": [],
   "source": [
    "# loss function\n",
    "loss_fn = nn.CrossEntropyLoss()\n",
    "\n",
    "\n",
    "# optimizer\n",
    "optimizer = torch.optim.SGD(params=model_1.parameters(), lr=0.1)\n",
    "\n",
    "\n"
   ]
  },
  {
   "cell_type": "code",
   "execution_count": 145,
   "id": "a7a8f3ff",
   "metadata": {},
   "outputs": [
    {
     "name": "stderr",
     "output_type": "stream",
     "text": [
      "  0%|          | 0/3 [00:00<?, ?it/s]"
     ]
    },
    {
     "name": "stdout",
     "output_type": "stream",
     "text": [
      "EPOCH : 0 \n",
      " ****************** \n",
      " \n",
      "Looked at 0/60000 samples\n",
      "Looked at 6400/60000 samples\n",
      "Looked at 12800/60000 samples\n",
      "Looked at 19200/60000 samples\n",
      "Looked at 25600/60000 samples\n"
     ]
    },
    {
     "name": "stderr",
     "output_type": "stream",
     "text": [
      " 33%|███▎      | 1/3 [00:07<00:15,  7.56s/it]"
     ]
    },
    {
     "name": "stdout",
     "output_type": "stream",
     "text": [
      "\n",
      "Train loss: 0.38145 | Test loss: 0.45349, Test acc: 84.11%\n",
      "\n",
      "EPOCH : 1 \n",
      " ****************** \n",
      " \n",
      "Looked at 0/60000 samples\n",
      "Looked at 6400/60000 samples\n",
      "Looked at 12800/60000 samples\n",
      "Looked at 19200/60000 samples\n",
      "Looked at 25600/60000 samples\n"
     ]
    },
    {
     "name": "stderr",
     "output_type": "stream",
     "text": [
      " 67%|██████▋   | 2/3 [00:15<00:07,  7.54s/it]"
     ]
    },
    {
     "name": "stdout",
     "output_type": "stream",
     "text": [
      "\n",
      "Train loss: 0.38562 | Test loss: 0.44986, Test acc: 84.55%\n",
      "\n",
      "EPOCH : 2 \n",
      " ****************** \n",
      " \n",
      "Looked at 0/60000 samples\n",
      "Looked at 6400/60000 samples\n",
      "Looked at 12800/60000 samples\n",
      "Looked at 19200/60000 samples\n",
      "Looked at 25600/60000 samples\n"
     ]
    },
    {
     "name": "stderr",
     "output_type": "stream",
     "text": [
      "100%|██████████| 3/3 [00:22<00:00,  7.45s/it]"
     ]
    },
    {
     "name": "stdout",
     "output_type": "stream",
     "text": [
      "\n",
      "Train loss: 0.38111 | Test loss: 0.46157, Test acc: 84.39%\n",
      "\n"
     ]
    },
    {
     "name": "stderr",
     "output_type": "stream",
     "text": [
      "\n"
     ]
    }
   ],
   "source": [
    "# importing the progress bar\n",
    "from tqdm.auto import tqdm\n",
    "\n",
    "\n",
    "# setting the manual seed\n",
    "torch.manual_seed(42)\n",
    "torch.cuda.manual_seed(42)\n",
    "\n",
    "\n",
    "# setting the epochs\n",
    "epochs = 3\n",
    "\n",
    "\n",
    "# looping through epochs\n",
    "for epoch in tqdm(range(epochs)):\n",
    "    print(f\"EPOCH : {epoch} \\n ****************** \\n \")\n",
    "\n",
    "    # calculating the total train_loss\n",
    "    train_loss = 0\n",
    "    # looping through the batches and the data\n",
    "    for batch, (X_train, y_train) in enumerate(train_dataloader):\n",
    "        # put the model in the training mode\n",
    "        model_1.train()\n",
    "        # doing the forward pass\n",
    "        y_preds = model_1(X_train.to(device))\n",
    "        # calculating the loss\n",
    "        loss = loss_fn(y_preds, y_train.to(device))\n",
    "        # accumilating the loss\n",
    "        train_loss += loss\n",
    "        # optimizer zeroing the gradients\n",
    "        optimizer.zero_grad()\n",
    "        # backprobigation\n",
    "        loss.backward()\n",
    "        # updating the parameters\n",
    "        optimizer.step()\n",
    "        # Print out how many samples have been seen\n",
    "        if batch % 400 == 0:\n",
    "            print(f\"Looked at {batch * len(X)}/{len(train_dataloader.dataset)} samples\")\n",
    "    # Divide total train loss by length of train dataloader (average loss per batch per epoch)\n",
    "    train_loss /= len(train_dataloader)\n",
    "    \n",
    "    \n",
    "    \n",
    "    \n",
    "    \n",
    "    # testing mode \n",
    "    \n",
    "    model_1.eval()\n",
    "    test_loss, test_acc = 0,0\n",
    "    with torch.inference_mode():\n",
    "        for  X_test, y_test in test_dataloader:\n",
    "            test_pred = model_1(X_test.to(device))\n",
    "            test_loss += loss_fn(test_pred, y_test.to(device))\n",
    "            test_acc += accuracy_fn(y_test.to(device), y_pred=test_pred.argmax(dim=1))\n",
    "            \n",
    "        test_loss /= len(test_dataloader)\n",
    "        test_acc /= len(test_dataloader)\n",
    "        ## Print out what's happening\n",
    "    print(\n",
    "        f\"\\nTrain loss: {train_loss:.5f} | Test loss: {test_loss:.5f}, Test acc: {test_acc:.2f}%\\n\"\n",
    "    )\n",
    "        \n",
    "\n",
    "    \n",
    "    \n",
    "    \n",
    "    "
   ]
  },
  {
   "cell_type": "code",
   "execution_count": null,
   "id": "cb18b2cf",
   "metadata": {},
   "outputs": [],
   "source": []
  }
 ],
 "metadata": {
  "kernelspec": {
   "display_name": ".venv",
   "language": "python",
   "name": "python3"
  },
  "language_info": {
   "codemirror_mode": {
    "name": "ipython",
    "version": 3
   },
   "file_extension": ".py",
   "mimetype": "text/x-python",
   "name": "python",
   "nbconvert_exporter": "python",
   "pygments_lexer": "ipython3",
   "version": "3.13.1"
  }
 },
 "nbformat": 4,
 "nbformat_minor": 5
}
