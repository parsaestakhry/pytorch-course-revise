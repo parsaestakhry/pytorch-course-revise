{
 "cells": [
  {
   "cell_type": "code",
   "execution_count": 2,
   "id": "78e11ac9",
   "metadata": {},
   "outputs": [
    {
     "name": "stdout",
     "output_type": "stream",
     "text": [
      "True\n",
      "2.6.0+cu126\n",
      "0.21.0+cu126\n"
     ]
    }
   ],
   "source": [
    "# import pytorch \n",
    "import torch\n",
    "from torch import nn\n",
    "\n",
    "# import torchvision\n",
    "import torchvision\n",
    "from torchvision import datasets \n",
    "from torchvision import transforms\n",
    "from torchvision.transforms import ToTensor\n",
    "\n",
    "\n",
    "import matplotlib.pyplot as plt\n",
    "\n",
    "\n",
    "print(torch.cuda.is_available())\n",
    "print(torch.__version__)\n",
    "print(torchvision.__version__)"
   ]
  },
  {
   "cell_type": "code",
   "execution_count": 5,
   "id": "324148b2",
   "metadata": {},
   "outputs": [
    {
     "name": "stderr",
     "output_type": "stream",
     "text": [
      "100.0%\n",
      "100.0%\n",
      "100.0%\n",
      "100.0%\n"
     ]
    }
   ],
   "source": [
    "# getting a dataset\n",
    "train_data = datasets.FashionMNIST(root=\"data\", #where to download data  ,\n",
    "                                   train=True,#training version of dataset\n",
    "                                   download=True, # do we want to download \n",
    "                                   transform=torchvision.transforms.ToTensor(), # how do we want to transform the data\n",
    "                                   target_transform=None \n",
    "                            \n",
    "                                   )\n",
    "\n",
    "\n",
    "test_data = datasets.FashionMNIST(root=\"data\", #where to download data  ,\n",
    "                                   train=False,#training version of dataset\n",
    "                                   download=True, # do we want to download \n",
    "                                   transform=torchvision.transforms.ToTensor(), # how do we want to transform the data\n",
    "                                   target_transform=None \n",
    "                            \n",
    "                                   )\n",
    "\n",
    "\n",
    "\n"
   ]
  },
  {
   "cell_type": "code",
   "execution_count": null,
   "id": "2131bb4a",
   "metadata": {},
   "outputs": [],
   "source": []
  }
 ],
 "metadata": {
  "kernelspec": {
   "display_name": ".venv",
   "language": "python",
   "name": "python3"
  },
  "language_info": {
   "codemirror_mode": {
    "name": "ipython",
    "version": 3
   },
   "file_extension": ".py",
   "mimetype": "text/x-python",
   "name": "python",
   "nbconvert_exporter": "python",
   "pygments_lexer": "ipython3",
   "version": "3.13.1"
  }
 },
 "nbformat": 4,
 "nbformat_minor": 5
}
