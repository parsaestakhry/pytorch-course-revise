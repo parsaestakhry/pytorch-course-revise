{
 "cells": [
  {
   "cell_type": "code",
   "execution_count": 1,
   "metadata": {},
   "outputs": [
    {
     "name": "stdout",
     "output_type": "stream",
     "text": [
      "True\n"
     ]
    }
   ],
   "source": [
    "import torch\n",
    "from torch import nn\n",
    "import matplotlib.pyplot as plt\n",
    "print(torch.cuda.is_available())\n"
   ]
  },
  {
   "cell_type": "code",
   "execution_count": 2,
   "metadata": {},
   "outputs": [
    {
     "data": {
      "text/plain": [
       "(tensor([[0.0000],\n",
       "         [0.0200],\n",
       "         [0.0400],\n",
       "         [0.0600],\n",
       "         [0.0800],\n",
       "         [0.1000],\n",
       "         [0.1200],\n",
       "         [0.1400],\n",
       "         [0.1600],\n",
       "         [0.1800]]),\n",
       " tensor([[0.3000],\n",
       "         [0.3140],\n",
       "         [0.3280],\n",
       "         [0.3420],\n",
       "         [0.3560],\n",
       "         [0.3700],\n",
       "         [0.3840],\n",
       "         [0.3980],\n",
       "         [0.4120],\n",
       "         [0.4260]]))"
      ]
     },
     "execution_count": 2,
     "metadata": {},
     "output_type": "execute_result"
    }
   ],
   "source": [
    "# create known paramters\n",
    "# creating data\n",
    "weight = 0.7\n",
    "bias = 0.3\n",
    "\n",
    "# data\n",
    "start = 0\n",
    "end = 1\n",
    "step = 0.02\n",
    "# x is capital because it's a matrix or tensor\n",
    "X = torch.arange(start, end, step).unsqueeze(dim=1)  # adds an extra dimension\n",
    "y = weight * X + bias\n",
    "X[:10], y[:10]"
   ]
  },
  {
   "cell_type": "code",
   "execution_count": 3,
   "metadata": {},
   "outputs": [
    {
     "data": {
      "text/plain": [
       "(40, 10, 40, 10)"
      ]
     },
     "execution_count": 3,
     "metadata": {},
     "output_type": "execute_result"
    }
   ],
   "source": [
    "# Create a train/test split\n",
    "# 80 percent for the train split\n",
    "train_split = int(0.8 * len(X))\n",
    "# first 40 examples for the training examples\n",
    "X_train, y_train = X[:train_split], y[:train_split]\n",
    "# last 10 examples for the testing examples\n",
    "X_test, y_test = X[train_split:], y[train_split:]\n",
    "\n",
    "len(X_train), len(X_test), len(y_train), len(y_test)"
   ]
  },
  {
   "cell_type": "code",
   "execution_count": 4,
   "metadata": {},
   "outputs": [],
   "source": [
    "def plot_predictions(\n",
    "    train_data=X_train,\n",
    "    train_labels=y_train,\n",
    "    test_data=X_test,\n",
    "    test_labels=y_test,\n",
    "    predictions=None,\n",
    "):\n",
    "    \"\"\"\n",
    "    plots training data, test data and compares predictions\n",
    "    \"\"\"\n",
    "    plt.figure(figsize=(10, 7))\n",
    "    # plot training data in blue\n",
    "    plt.scatter(train_data, train_labels, c=\"b\", s=4, label=\"Training data \")\n",
    "\n",
    "    # plot testing data in green\n",
    "    plt.scatter(test_data, test_labels, c=\"g\", s=4, label=\"Testing data\")\n",
    "\n",
    "    # Are there predictions ?\n",
    "    if predictions is not None:\n",
    "        # plot the predictions\n",
    "        plt.scatter(test_data, predictions, c=\"r\", s=4, label=\"Predictions\")\n",
    "\n",
    "    # show the legend\n",
    "    plt.legend(prop={\"size\": 14})"
   ]
  },
  {
   "cell_type": "code",
   "execution_count": 5,
   "metadata": {},
   "outputs": [
    {
     "data": {
      "image/png": "[encoded data removed]",
      "text/plain": [
       "<Figure size 1000x700 with 1 Axes>"
      ]
     },
     "metadata": {},
     "output_type": "display_data"
    }
   ],
   "source": [
    "plot_predictions()"
   ]
  },
  {
   "cell_type": "code",
   "execution_count": 6,
   "metadata": {},
   "outputs": [],
   "source": [
    "class LinearRegression(nn.Module):\n",
    "    def __init__(self):\n",
    "        super().__init__()\n",
    "        # requires_grad=True tells PyTorch to calculate gradients for this parameter\n",
    "        self.weights = nn.Parameter(torch.randn(1, requires_grad=True, dtype=torch.float32))\n",
    "        self.bias = nn.Parameter(torch.randn(1, requires_grad=True, dtype=torch.float32))\n",
    "        \n",
    "    # forward method is used to calculate the output of the model in this case is linear regression\n",
    "    # x is the input\n",
    "    def forward(self,x:torch.tensor) -> torch.tensor:\n",
    "        return self.weights * x + self.bias\n",
    "    \n",
    "    \n",
    "    "
   ]
  },
  {
   "cell_type": "markdown",
   "metadata": {},
   "source": [
    "### Pytorch model building "
   ]
  },
  {
   "cell_type": "code",
   "execution_count": 7,
   "metadata": {},
   "outputs": [
    {
     "data": {
      "text/plain": [
       "[Parameter containing:\n",
       " tensor([0.3367], requires_grad=True),\n",
       " Parameter containing:\n",
       " tensor([0.1288], requires_grad=True)]"
      ]
     },
     "execution_count": 7,
     "metadata": {},
     "output_type": "execute_result"
    }
   ],
   "source": [
    "# create a random seed \n",
    "torch.manual_seed(42)\n",
    "\n",
    "# model instance\n",
    "model_0 = LinearRegression()\n",
    "\n",
    "# returning the parameters of the model\n",
    "list(model_0.parameters())"
   ]
  },
  {
   "cell_type": "code",
   "execution_count": 8,
   "metadata": {},
   "outputs": [
    {
     "data": {
      "text/plain": [
       "OrderedDict([('weights', tensor([0.3367])), ('bias', tensor([0.1288]))])"
      ]
     },
     "execution_count": 8,
     "metadata": {},
     "output_type": "execute_result"
    }
   ],
   "source": [
    "# list named parameters\n",
    "model_0.state_dict()\n",
    "\n",
    "# we are trying to get close to the actual values of the weight and bias"
   ]
  },
  {
   "cell_type": "code",
   "execution_count": 9,
   "metadata": {},
   "outputs": [
    {
     "data": {
      "text/plain": [
       "(tensor([[0.8000],\n",
       "         [0.8200],\n",
       "         [0.8400],\n",
       "         [0.8600],\n",
       "         [0.8800],\n",
       "         [0.9000],\n",
       "         [0.9200],\n",
       "         [0.9400],\n",
       "         [0.9600],\n",
       "         [0.9800]]),\n",
       " tensor([[0.8600],\n",
       "         [0.8740],\n",
       "         [0.8880],\n",
       "         [0.9020],\n",
       "         [0.9160],\n",
       "         [0.9300],\n",
       "         [0.9440],\n",
       "         [0.9580],\n",
       "         [0.9720],\n",
       "         [0.9860]]))"
      ]
     },
     "execution_count": 9,
     "metadata": {},
     "output_type": "execute_result"
    }
   ],
   "source": [
    "X_test,y_test"
   ]
  },
  {
   "cell_type": "code",
   "execution_count": 10,
   "metadata": {},
   "outputs": [
    {
     "data": {
      "text/plain": [
       "tensor([[0.3982],\n",
       "        [0.4049],\n",
       "        [0.4116],\n",
       "        [0.4184],\n",
       "        [0.4251],\n",
       "        [0.4318],\n",
       "        [0.4386],\n",
       "        [0.4453],\n",
       "        [0.4520],\n",
       "        [0.4588]])"
      ]
     },
     "execution_count": 10,
     "metadata": {},
     "output_type": "execute_result"
    },
    {
     "data": {
      "image/png": "[encoded data removed]",
      "text/plain": [
       "<Figure size 1000x700 with 1 Axes>"
      ]
     },
     "metadata": {},
     "output_type": "display_data"
    }
   ],
   "source": [
    "# making preictions with torch.inferance_mode to check how well the model is doing\n",
    "# we are not training the model\n",
    "# turns off the gradient tracking\n",
    "# we are just making predictions\n",
    "# we are not updating the weights and biases\n",
    "# we are not calculating the gradients\n",
    "with torch.inference_mode():\n",
    "    predictions = model_0(X_test)\n",
    "    plot_predictions(predictions=predictions)\n",
    "\n",
    "predictions"
   ]
  },
  {
   "cell_type": "code",
   "execution_count": 11,
   "metadata": {},
   "outputs": [],
   "source": [
    "# training the model\n",
    "# one way to measure how bad the model is doing is by calculating the loss\n",
    "# loss is the difference between the predictions and the actual values\n",
    "# we are trying to minimize the loss\n",
    "# we are trying to make the loss as small as possible\n",
    "# we are trying to make the predictions as close to the actual values as possible\n",
    "\n",
    "# optimizer is used to update the weights and biases\n",
    "# optimizer is used to minimize the loss\n",
    "# optimizer is used to make the predictions as close to the actual values as possible\n",
    "# mean absolute error is used to calculate the loss\n",
    "# setup the loss function\n",
    "loss_fn = nn.L1Loss()\n",
    "\n",
    "# setup the optimizer\n",
    "optimizer = torch.optim.SGD(params=model_0.parameters(), lr=0.01) # lr: learning rate\n"
   ]
  },
  {
   "cell_type": "code",
   "execution_count": 12,
   "metadata": {},
   "outputs": [
    {
     "name": "stdout",
     "output_type": "stream",
     "text": [
      "loss: 0.31288138031959534\n",
      "loss: 0.3013603389263153\n",
      "loss: 0.28983935713768005\n",
      "loss: 0.2783183455467224\n",
      "loss: 0.26679736375808716\n",
      "loss: 0.2552763521671295\n",
      "loss: 0.24375534057617188\n",
      "loss: 0.23223432898521423\n",
      "loss: 0.22071333229541779\n",
      "loss: 0.20919232070446014\n",
      "loss: 0.1976713240146637\n",
      "loss: 0.18615034222602844\n",
      "loss: 0.1746293306350708\n",
      "loss: 0.16310831904411316\n",
      "loss: 0.1515873372554779\n",
      "loss: 0.14006635546684265\n",
      "loss: 0.1285453587770462\n",
      "loss: 0.11702437698841095\n",
      "loss: 0.1060912236571312\n",
      "loss: 0.09681284427642822\n",
      "loss: 0.08908725529909134\n",
      "loss: 0.08227583020925522\n",
      "loss: 0.07638873159885406\n",
      "loss: 0.07160007208585739\n",
      "loss: 0.06747635453939438\n",
      "loss: 0.06395438313484192\n",
      "loss: 0.06097004935145378\n",
      "loss: 0.05845819041132927\n",
      "loss: 0.05635259300470352\n",
      "loss: 0.0545857772231102\n",
      "loss: 0.053148526698350906\n",
      "loss: 0.05181945487856865\n",
      "loss: 0.05069301277399063\n",
      "loss: 0.0498228520154953\n",
      "loss: 0.04895269125699997\n",
      "loss: 0.04819351062178612\n",
      "loss: 0.047531817108392715\n",
      "loss: 0.04692792519927025\n",
      "loss: 0.04642331600189209\n",
      "loss: 0.04591871052980423\n",
      "loss: 0.04543796554207802\n",
      "loss: 0.04503796249628067\n",
      "loss: 0.04463795945048332\n",
      "loss: 0.04423796385526657\n",
      "loss: 0.04383796453475952\n",
      "loss: 0.04343796148896217\n",
      "loss: 0.043074630200862885\n",
      "loss: 0.04272563382983208\n",
      "loss: 0.04237663000822067\n",
      "loss: 0.04202762991189957\n",
      "loss: 0.04167863354086876\n",
      "loss: 0.04132963344454765\n",
      "loss: 0.04098063334822655\n",
      "loss: 0.04063162952661514\n",
      "loss: 0.040282636880874634\n",
      "loss: 0.039933640509843826\n",
      "loss: 0.03958464413881302\n",
      "loss: 0.03923564404249191\n",
      "loss: 0.03888664394617081\n",
      "loss: 0.0385376438498497\n",
      "loss: 0.03818932920694351\n",
      "loss: 0.03785243630409241\n",
      "loss: 0.0375034399330616\n",
      "loss: 0.037164121866226196\n",
      "loss: 0.03681822493672371\n",
      "loss: 0.03647511452436447\n",
      "loss: 0.03613303601741791\n",
      "loss: 0.03578609973192215\n",
      "loss: 0.03544783592224121\n",
      "loss: 0.035098835825920105\n",
      "loss: 0.03476089984178543\n",
      "loss: 0.03441363573074341\n",
      "loss: 0.03407188132405281\n",
      "loss: 0.03372843936085701\n",
      "loss: 0.03338287025690079\n",
      "loss: 0.033043231815099716\n",
      "loss: 0.03269423171877861\n",
      "loss: 0.032357655465602875\n",
      "loss: 0.03200903534889221\n",
      "loss: 0.03166864812374115\n",
      "loss: 0.03132382780313492\n",
      "loss: 0.030979642644524574\n",
      "loss: 0.030638623982667923\n",
      "loss: 0.0302906334400177\n",
      "loss: 0.029953425750136375\n",
      "loss: 0.02960442565381527\n",
      "loss: 0.029265418648719788\n",
      "loss: 0.028919223695993423\n",
      "loss: 0.028576409444212914\n",
      "loss: 0.028234025463461876\n",
      "loss: 0.02788739837706089\n",
      "loss: 0.02754882536828518\n",
      "loss: 0.027199819684028625\n",
      "loss: 0.026862185448408127\n",
      "loss: 0.02651461586356163\n",
      "loss: 0.026173178106546402\n",
      "loss: 0.025829419493675232\n",
      "loss: 0.02548416517674923\n",
      "loss: 0.025144213810563087\n",
      "loss: 0.02479521557688713\n"
     ]
    }
   ],
   "source": [
    "# building a training loop and a testing loop\n",
    "# training loop is used to train the model\n",
    "# training loop is used to update the weights and biases\n",
    "# an epoch is a full pass through the training data\n",
    "epochs = 100\n",
    "\n",
    "# loop through the data\n",
    "for epoch in range(epochs):\n",
    "    # set the model to training mode\n",
    "    model_0.train() # train mode in pytorch is used to update the weights and biases and sets all parameters to require_grad=True\n",
    "    \n",
    "    # forward pass\n",
    "    y_pred =  model_0(X_train)\n",
    "    \n",
    "    # calculate the loss\n",
    "    loss = loss_fn(y_pred, y_train)\n",
    "    print(f\"loss: {loss}\")\n",
    "    # optimizer zero grad\n",
    "    optimizer.zero_grad() # starting fresh each loop \n",
    "    \n",
    "    # Perform a backward pass (backpropagation) on the loss with respect to the model's parameters\n",
    "    loss.backward()\n",
    "    \n",
    "    # step the optimizer to update the weights and biases (gradient descent)\n",
    "    optimizer.step() # by default how the optimzer changes will accumulate through the training loop so we need to zero the gradients up above\n",
    "    \n",
    "    \n",
    "    model_0.eval() # turns off gradient tracking and sets all parameters to require_grad=False\n",
    "    \n",
    "    \n"
   ]
  },
  {
   "cell_type": "code",
   "execution_count": 13,
   "metadata": {},
   "outputs": [
    {
     "data": {
      "image/png": "[encoded data removed]",
      "text/plain": [
       "<Figure size 1000x700 with 1 Axes>"
      ]
     },
     "metadata": {},
     "output_type": "display_data"
    }
   ],
   "source": [
    "with torch.inference_mode():\n",
    "    predictions = model_0(X_test)\n",
    "    plot_predictions(predictions=predictions)"
   ]
  },
  {
   "cell_type": "code",
   "execution_count": null,
   "metadata": {},
   "outputs": [],
   "source": []
  }
 ],
 "metadata": {
  "kernelspec": {
   "display_name": ".venv",
   "language": "python",
   "name": "python3"
  },
  "language_info": {
   "codemirror_mode": {
    "name": "ipython",
    "version": 3
   },
   "file_extension": ".py",
   "mimetype": "text/x-python",
   "name": "python",
   "nbconvert_exporter": "python",
   "pygments_lexer": "ipython3",
   "version": "3.13.1"
  }
 },
 "nbformat": 4,
 "nbformat_minor": 2
}
